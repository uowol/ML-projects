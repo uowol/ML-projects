{
 "cells": [
  {
   "cell_type": "code",
   "execution_count": 1,
   "metadata": {},
   "outputs": [],
   "source": [
    "import pandas as pd\n",
    "import numpy as np\n",
    "import torch\n",
    "from torch import nn \n",
    "from torch.utils.data import DataLoader     # 데이터로더는 데이터셋을 iterable하게 감싸는 역할\n",
    "from torchvision import datasets            # 데이터셋은 샘플과 정답을 저장함\n",
    "from torchvision.transforms import ToTensor\n",
    "import clip\n",
    "from PIL import Image"
   ]
  },
  {
   "attachments": {},
   "cell_type": "markdown",
   "metadata": {},
   "source": [
    "## CLIP model"
   ]
  },
  {
   "cell_type": "code",
   "execution_count": 2,
   "metadata": {},
   "outputs": [],
   "source": [
    "device = \"cuda\" if torch.cuda.is_available() else \"cpu\"\n",
    "model, preprocess = clip.load(\"ViT-B/32\", device=device)"
   ]
  },
  {
   "cell_type": "code",
   "execution_count": 3,
   "metadata": {},
   "outputs": [],
   "source": [
    "image_title = 'A horse in the space.png'\n",
    "\n",
    "prompts = [\n",
    "    \"A horse in the space\",\n",
    "    \"A dog in the space\",\n",
    "    \"A bear in the space\",\n",
    "    \"A person in the space\",\n",
    "    \"A horse in the park\",\n",
    "    \"A dog in the park\",\n",
    "    \"A bear in the park\",\n",
    "    \"A person in the park\",\n",
    "]\n",
    "\n",
    "image = preprocess(Image.open(image_title)).unsqueeze(0).to(device)\n",
    "text = clip.tokenize(prompts).to(device)"
   ]
  },
  {
   "cell_type": "code",
   "execution_count": 30,
   "metadata": {},
   "outputs": [
    {
     "data": {
      "text/plain": [
       "(tensor([[30.6719, 24.0625, 22.5156, 23.5312, 23.3750, 16.5312, 14.7188, 17.2344]],\n",
       "        device='cuda:0', dtype=torch.float16, grad_fn=<MmBackward0>),\n",
       " tensor([[30.6719],\n",
       "         [24.0625],\n",
       "         [22.5156],\n",
       "         [23.5312],\n",
       "         [23.3750],\n",
       "         [16.5312],\n",
       "         [14.7188],\n",
       "         [17.2344]], device='cuda:0', dtype=torch.float16, grad_fn=<TBackward0>))"
      ]
     },
     "execution_count": 30,
     "metadata": {},
     "output_type": "execute_result"
    }
   ],
   "source": [
    "model(image, text)"
   ]
  },
  {
   "attachments": {},
   "cell_type": "markdown",
   "metadata": {},
   "source": [
    "## Our Model"
   ]
  },
  {
   "cell_type": "code",
   "execution_count": 60,
   "metadata": {},
   "outputs": [],
   "source": [
    "def get_image_features_per_layer(clip_model, image):\n",
    "    features = [torch.zeros([image.shape[0], 768]) for i in range(clip_model.visual.transformer.layers)]\n",
    "\n",
    "    # image -> tokens\n",
    "    x = clip_model.visual.conv1(image.type(clip_model.visual.conv1.weight.dtype))\n",
    "    x = x.reshape(x.shape[0], x.shape[1], -1)   # shape = [*, width, grid ** 2]\n",
    "    x = x.permute(0, 2, 1)                      # shape = [*, grid ** 2, width]\n",
    "    x = torch.cat([clip_model.visual.class_embedding.to(x.dtype) + torch.zeros(x.shape[0], 1, x.shape[-1], dtype=x.dtype, device=x.device), x], dim=1)  # shape = [*, grid ** 2 + 1, width]\n",
    "    x = x + clip_model.visual.positional_embedding.to(x.dtype)\n",
    "    x = clip_model.visual.ln_pre(x)\n",
    "\n",
    "    # tokens -> transformer -> feature_embeddings\n",
    "    x = x.permute(1, 0, 2)          # NLD -> LND\n",
    "\n",
    "    for i in range(clip_model.visual.transformer.layers):\n",
    "        x = clip_model.visual.transformer.resblocks[i](x)\n",
    "        tmp = x.permute(1, 0, 2)    # LND -> NLD\n",
    "        tmp = tmp[:, 0, :]\n",
    "        features[i].copy_(tmp)\n",
    "\n",
    "    tensor = torch.stack(features, dim=0).detach()\n",
    "    # tensor.requires_grad = False\n",
    "\n",
    "    return tensor.to(device)"
   ]
  },
  {
   "cell_type": "code",
   "execution_count": 42,
   "metadata": {},
   "outputs": [],
   "source": [
    "def get_text_features_per_layer(clip_model, text):\n",
    "    features = [torch.zeros([*text.shape, 512]) for i in range(clip_model.transformer.layers)]\n",
    "\n",
    "    #%% clip_model.encode_image\n",
    "\n",
    "    x = clip_model.token_embedding(text).type(clip_model.dtype)  # [batch_size, n_ctx, d_clip_model]\n",
    "\n",
    "    x = x + clip_model.positional_embedding.type(clip_model.dtype)\n",
    "    x = x.permute(1, 0, 2)          # NLD -> LND\n",
    "\n",
    "    for i in range(clip_model.transformer.layers):\n",
    "        x = clip_model.transformer.resblocks[i](x)\n",
    "        tmp = x.permute(1, 0, 2)    # LND -> NLD\n",
    "        features[i].copy_(tmp)\n",
    "\n",
    "    tensor = torch.stack(features, dim=0).detach()\n",
    "    # tensor.requires_grad = False\n",
    "\n",
    "    return tensor.to(device)"
   ]
  },
  {
   "attachments": {},
   "cell_type": "markdown",
   "metadata": {},
   "source": [
    "#### lab"
   ]
  },
  {
   "cell_type": "code",
   "execution_count": 43,
   "metadata": {},
   "outputs": [
    {
     "data": {
      "text/plain": [
       "torch.Size([12, 1, 768])"
      ]
     },
     "execution_count": 43,
     "metadata": {},
     "output_type": "execute_result"
    }
   ],
   "source": [
    "model.visual.ln_post(get_image_features_per_layer(model, image).to(device)).shape"
   ]
  },
  {
   "cell_type": "code",
   "execution_count": 44,
   "metadata": {},
   "outputs": [
    {
     "data": {
      "text/plain": [
       "LayerNorm((512,), eps=1e-05, elementwise_affine=True)"
      ]
     },
     "execution_count": 44,
     "metadata": {},
     "output_type": "execute_result"
    }
   ],
   "source": [
    "model.ln_final"
   ]
  },
  {
   "cell_type": "code",
   "execution_count": 34,
   "metadata": {},
   "outputs": [
    {
     "data": {
      "text/plain": [
       "torch.Size([12, 8, 77, 512])"
      ]
     },
     "execution_count": 34,
     "metadata": {},
     "output_type": "execute_result"
    }
   ],
   "source": [
    "model.ln_final(get_text_features_per_layer(model, text).to(device)).shape"
   ]
  },
  {
   "cell_type": "code",
   "execution_count": 35,
   "metadata": {},
   "outputs": [
    {
     "data": {
      "text/plain": [
       "torch.Size([768, 512])"
      ]
     },
     "execution_count": 35,
     "metadata": {},
     "output_type": "execute_result"
    }
   ],
   "source": [
    "model.visual.proj.shape"
   ]
  },
  {
   "cell_type": "code",
   "execution_count": 36,
   "metadata": {},
   "outputs": [
    {
     "data": {
      "text/plain": [
       "tensor([[0.7060, 0.3264, 0.8114,  ..., 0.3201, 0.6791, 0.0149],\n",
       "        [0.8198, 0.7222, 0.8461,  ..., 0.4048, 0.2797, 0.4489],\n",
       "        [0.4857, 0.4051, 0.6350,  ..., 0.2085, 0.0135, 0.5073],\n",
       "        ...,\n",
       "        [0.2146, 0.3847, 0.2523,  ..., 0.9563, 0.4808, 0.8936],\n",
       "        [0.9526, 0.3367, 0.8129,  ..., 0.4689, 0.7941, 0.3421],\n",
       "        [0.1183, 0.8862, 0.1054,  ..., 0.7301, 0.8447, 0.9090]])"
      ]
     },
     "execution_count": 36,
     "metadata": {},
     "output_type": "execute_result"
    }
   ],
   "source": [
    "torch.rand(model.visual.proj.shape)"
   ]
  },
  {
   "cell_type": "code",
   "execution_count": 37,
   "metadata": {},
   "outputs": [
    {
     "data": {
      "text/plain": [
       "torch.Size([12, 768, 512])"
      ]
     },
     "execution_count": 37,
     "metadata": {},
     "output_type": "execute_result"
    }
   ],
   "source": [
    "proj = torch.stack([model.visual.proj for _ in range(12)])\n",
    "proj.shape"
   ]
  },
  {
   "cell_type": "code",
   "execution_count": 38,
   "metadata": {},
   "outputs": [
    {
     "data": {
      "text/plain": [
       "(True, False)"
      ]
     },
     "execution_count": 38,
     "metadata": {},
     "output_type": "execute_result"
    }
   ],
   "source": [
    "tmp = [model.visual.proj for _ in range(12)]\n",
    "tmp[0] is tmp[1], proj[0] is proj[1]"
   ]
  },
  {
   "cell_type": "code",
   "execution_count": 39,
   "metadata": {},
   "outputs": [
    {
     "name": "stdout",
     "output_type": "stream",
     "text": [
      "-0.0026264190673828125 -0.0026264190673828125\n",
      "-1.0 -0.0026264190673828125\n"
     ]
    }
   ],
   "source": [
    "print(proj[0][0][0].item(), proj[1][0][0].item())\n",
    "proj[0][0][0] = -1\n",
    "print(proj[0][0][0].item(), proj[1][0][0].item())\n",
    "# light copy"
   ]
  },
  {
   "cell_type": "code",
   "execution_count": 42,
   "metadata": {},
   "outputs": [
    {
     "data": {
      "text/plain": [
       "tensor(768, device='cuda:0')"
      ]
     },
     "execution_count": 42,
     "metadata": {},
     "output_type": "execute_result"
    }
   ],
   "source": [
    "tmp = get_image_features_per_layer(model, image).to(device)\n",
    "tmp1 = model.visual.ln_post(tmp)[0]\n",
    "tmp2 = model.visual.ln_post(tmp[0])\n",
    "(tmp1 == tmp2).sum()"
   ]
  },
  {
   "attachments": {},
   "cell_type": "markdown",
   "metadata": {},
   "source": [
    "#### inference"
   ]
  },
  {
   "cell_type": "code",
   "execution_count": 274,
   "metadata": {},
   "outputs": [],
   "source": [
    "# Define model\n",
    "class OurCLIP(nn.Module):        \n",
    "    def __init__(self, clip_model, # use pre-trained clip model\n",
    "                 use_one_ln1=True, use_one_ln2=True, \n",
    "                 use_one_projection1=True, use_one_projection2=True,\n",
    "                 trainable_ln1=False, trainable_ln2=False, \n",
    "                 trainable_projection1=False, trainable_projection2=False,\n",
    "                 threshold = 20): \n",
    "        super().__init__()\n",
    "\n",
    "        self.dtype = clip_model.dtype\n",
    "        self.logit_scale = clip_model.logit_scale\n",
    "        self.threshold = threshold\n",
    "\n",
    "        ####################### 미구현\n",
    "        if use_one_ln1:\n",
    "            self.ln_post = clip_model.visual.ln_post\n",
    "        else: pass\n",
    "        if use_one_ln2:\n",
    "            self.ln_final = clip_model.ln_final\n",
    "        else: pass\n",
    "        ########################\n",
    "\n",
    "        if use_one_projection1:\n",
    "            self.visual_projection = torch.stack([clip_model.visual.proj for _ in range(12)]).type(torch.float)\n",
    "            if not trainable_projection1:\n",
    "                self.visual_projection.detach().type(torch.float)\n",
    "        else:\n",
    "            self.visual_projection = torch.stack([*[torch.rand(clip_model.visual.proj.shape) for _ in range(11)],\n",
    "                                                   clip_model.visual.proj]).type(torch.float)\n",
    "        \n",
    "        if use_one_projection2:\n",
    "            self.textual_projection = torch.stack([clip_model.text_projection for _ in range(12)])\n",
    "            if not trainable_projection2:\n",
    "                self.visual_projection.detach()\n",
    "        else:\n",
    "            self.textual_projection = torch.stack([*[torch.rand(clip_model.text_projection.shape) for _ in range(11)], \n",
    "                                                   clip_model.text_projection])\n",
    "\n",
    "\n",
    "    def forward(self, image_features, text, text_features, score_type=0):    \n",
    "        # image_features = image_features.to(device)\n",
    "        # text_features = text_features.to(device)\n",
    "\n",
    "        image_features = self.ln_post(image_features)                   # (12, batch_size, 768)\n",
    "        image_embeddings = image_features @ self.visual_projection      # (12, batch_size, 512)  <- we'll use it\n",
    "\n",
    "        text_features = self.ln_final(text_features).type(self.dtype)   # (12, seq_len, 77, 512)\n",
    "        text_embeddings = text_features[:, torch.arange(text_features.shape[1]), text.argmax(dim=-1)] @ self.textual_projection  \n",
    "                                                                        # (12, seq_len, 512)  <- we'll use it\n",
    "\n",
    "        # print(text_embeddings.shape, image_embeddings.shape)\n",
    "        t1 = image_embeddings.permute(1, 0, 2)[0].type(torch.float)     # 일단 1 크기의 배치만을 가정한다.\n",
    "        t2 = text_embeddings.permute(1, 0, 2).type(torch.float)\n",
    "        \n",
    "        t1 = t1 / t1.norm(dim=1, keepdim=True)\n",
    "        t2 = t2 / t2.norm(dim=1, keepdim=True)\n",
    "        \n",
    "        t3 = (t2 @ t1.T).view([t2.shape[0], -1])\n",
    "\n",
    "        if score_type == 1:\n",
    "            return torch.mean(t3, 1)    # score2\n",
    "        if score_type == 2:\n",
    "            return torch.mean(t3, 1)    # score3, count는 일단 미구현\n",
    "        return torch.max(t3, 1)         # score1     \n",
    "\n",
    "        ##########################################################################\n",
    "        #   여러 개의 배치를 사용하는 연산은 생각해내기가 너무 어려움\n",
    "        #   각 계산한 결과 텐서를 리스트에 따로 저장하고 가져와서 쓰는 것이 grad 계산이 가능할까?\n",
    "        #   일단 하나의 배치와 하나의 score를 사용하는 것으로 진행하였다.\n",
    "        ##########################################################################\n",
    "\n",
    "        scores = [[[], [], []] for _ in range(image_features.shape[1])]\n",
    "\n",
    "        for k in range(image_features.shape[1]):\n",
    "            for _class in range(text_features.shape[1]):\n",
    "                # print(image_embeddings[0].shape)\n",
    "                # print(text_embeddings[0][[_class]].T.shape)\n",
    "                # print((image_embeddings[0] @ text_embeddings[0][[_class]].T.type(torch.float)).item())\n",
    "                img_similarity_by_layer = [[(image_embeddings[i][[k]] @ text_embeddings[j][[_class]].T.type(torch.float))\n",
    "                                            for j in range(12)] for i in range(12)]\n",
    "                scores[k][0].append(np.max(img_similarity_by_layer))\n",
    "                scores[k][1].append(np.mean(img_similarity_by_layer))\n",
    "                scores[k][2].append(sum(list(map(lambda x: sum([y > self.threshold for y in x]), img_similarity_by_layer))))\n",
    "\n",
    "        return scores"
   ]
  },
  {
   "cell_type": "code",
   "execution_count": 275,
   "metadata": {},
   "outputs": [
    {
     "name": "stdout",
     "output_type": "stream",
     "text": [
      "OurCLIP(\n",
      "  (ln_post): LayerNorm((768,), eps=1e-05, elementwise_affine=True)\n",
      "  (ln_final): LayerNorm((512,), eps=1e-05, elementwise_affine=True)\n",
      ")\n"
     ]
    }
   ],
   "source": [
    "device = \"cuda\" if torch.cuda.is_available() else \"cpu\"\n",
    "clip_model, preprocess = clip.load(\"ViT-B/32\", device=device)\n",
    "\n",
    "model = OurCLIP(clip_model, trainable_projection1=True, trainable_projection2=True).to(device)  # model을 initialize하는 부분\n",
    "print(model)"
   ]
  },
  {
   "cell_type": "code",
   "execution_count": 276,
   "metadata": {},
   "outputs": [
    {
     "name": "stdout",
     "output_type": "stream",
     "text": [
      "True\n",
      "True\n",
      "True\n",
      "True\n"
     ]
    }
   ],
   "source": [
    "def dfs_freeze(model):\n",
    "    for name, child in model.named_children():\n",
    "        for param in child.parameters():\n",
    "            print(param.requires_grad)\n",
    "            # param.requires_grad = False\n",
    "            # print(param)\n",
    "        dfs_freeze(child)\n",
    "dfs_freeze(model)"
   ]
  },
  {
   "attachments": {},
   "cell_type": "markdown",
   "metadata": {},
   "source": [
    "### lab"
   ]
  },
  {
   "cell_type": "code",
   "execution_count": 74,
   "metadata": {},
   "outputs": [],
   "source": [
    "image_title = 'A horse in the space.png'\n",
    "\n",
    "prompts = [\n",
    "    \"A horse in the space\",\n",
    "    \"A dog in the space\",\n",
    "    \"A bear in the space\",\n",
    "    \"A person in the space\",\n",
    "    \"A horse in the park\",\n",
    "    \"A dog in the park\",\n",
    "    \"A bear in the park\",\n",
    "    \"A person in the park\",\n",
    "]\n",
    "\n",
    "image = preprocess(Image.open(image_title)).unsqueeze(0).to(device)\n",
    "text = clip.tokenize(prompts).to(device)"
   ]
  },
  {
   "cell_type": "code",
   "execution_count": 75,
   "metadata": {},
   "outputs": [],
   "source": [
    "image_features = get_image_features_per_layer(clip_model, image)\n",
    "text_features = get_text_features_per_layer(clip_model, text)"
   ]
  },
  {
   "cell_type": "code",
   "execution_count": 49,
   "metadata": {},
   "outputs": [
    {
     "data": {
      "text/plain": [
       "[[33.82638168334961,\n",
       "  26.978994369506836,\n",
       "  26.948450088500977,\n",
       "  30.468639373779297,\n",
       "  25.630268096923828,\n",
       "  20.795486450195312,\n",
       "  22.559879302978516,\n",
       "  23.461559295654297],\n",
       " [12.221618531478775,\n",
       "  12.280218217107985,\n",
       "  12.698671211798986,\n",
       "  14.021323535177443,\n",
       "  11.308028957910008,\n",
       "  10.396428364846441,\n",
       "  11.075213006801075,\n",
       "  10.72875845928987],\n",
       " [14, 13, 13, 13, 6, 1, 6, 11]]"
      ]
     },
     "execution_count": 49,
     "metadata": {},
     "output_type": "execute_result"
    }
   ],
   "source": [
    "model(image_features, text_features)"
   ]
  },
  {
   "cell_type": "code",
   "execution_count": 50,
   "metadata": {},
   "outputs": [
    {
     "data": {
      "text/plain": [
       "torch.Size([512, 512])"
      ]
     },
     "execution_count": 50,
     "metadata": {},
     "output_type": "execute_result"
    }
   ],
   "source": [
    "clip_model.text_projection.shape"
   ]
  },
  {
   "attachments": {},
   "cell_type": "markdown",
   "metadata": {},
   "source": [
    "## Train"
   ]
  },
  {
   "attachments": {},
   "cell_type": "markdown",
   "metadata": {},
   "source": [
    "### Load-Dataset"
   ]
  },
  {
   "cell_type": "code",
   "execution_count": 51,
   "metadata": {},
   "outputs": [],
   "source": [
    "import deeplake\n",
    "from PIL import Image\n",
    "import numpy as np\n",
    "import os, time\n",
    "import torch\n",
    "from torchvision import transforms, models"
   ]
  },
  {
   "cell_type": "code",
   "execution_count": 280,
   "metadata": {},
   "outputs": [
    {
     "name": "stdout",
     "output_type": "stream",
     "text": [
      "hub://activeloop/pacs-train loaded successfully.\n",
      "This dataset can be visualized in Jupyter Notebook by ds.visualize() or at https://app.activeloop.ai/activeloop/pacs-train\n",
      "hub://activeloop/pacs-test loaded successfully.\n",
      "This dataset can be visualized in Jupyter Notebook by ds.visualize() or at https://app.activeloop.ai/activeloop/pacs-test\n"
     ]
    }
   ],
   "source": [
    "# Connect to the training and testing datasets\n",
    "ds_train = deeplake.load('hub://activeloop/pacs-train')\n",
    "ds_test = deeplake.load('hub://activeloop/pacs-test')\n",
    "\n",
    "tform = transforms.Compose([\n",
    "    transforms.RandomRotation(20), # Image augmentation\n",
    "    transforms.ToTensor(), # Must convert to pytorch tensor for subsequent operations to run\n",
    "    transforms.Normalize([0.5], [0.5]),\n",
    "])\n",
    "batch_size = 1"
   ]
  },
  {
   "cell_type": "code",
   "execution_count": 281,
   "metadata": {},
   "outputs": [],
   "source": [
    "# Specity the loss function and optimizer\n",
    "model.to(device)\n",
    "\n",
    "criterion = torch.nn.CrossEntropyLoss()\n",
    "optimizer = torch.optim.SGD(model.parameters(), lr=0.001, momentum=0.1)"
   ]
  },
  {
   "cell_type": "code",
   "execution_count": 282,
   "metadata": {},
   "outputs": [
    {
     "name": "stdout",
     "output_type": "stream",
     "text": [
      "torch.Size([7, 77])\n"
     ]
    }
   ],
   "source": [
    "pacs_class = [\n",
    "    'a dog', 'an elephant', 'a giraffe', 'a guitar', 'a horse', 'a house', 'a person'\n",
    "]\n",
    "\n",
    "def prompt(idx):\n",
    "    return f\"An image of {pacs_class[idx]}\"\n",
    "\n",
    "prompts = clip.tokenize([prompt(x) for x in range(7)]).to(device)\n",
    "print(prompts.shape)"
   ]
  },
  {
   "cell_type": "code",
   "execution_count": 283,
   "metadata": {},
   "outputs": [],
   "source": [
    "# Since torchvision transforms expect PIL images, we use the 'pil' decode_method for the 'images' tensor. This is much faster than running ToPILImage inside the transform\n",
    "train_loader = ds_train.pytorch(num_workers = 0, shuffle = True, \n",
    "                                transform = {'images': tform, 'labels': None}, \n",
    "                                batch_size = batch_size, decode_method = {'images': 'pil'})\n",
    "test_loader = ds_test.pytorch(num_workers = 0, transform = {'images': tform, 'labels': None}, \n",
    "                                batch_size = batch_size, decode_method = {'images': 'pil'})"
   ]
  },
  {
   "cell_type": "code",
   "execution_count": 284,
   "metadata": {},
   "outputs": [
    {
     "data": {
      "text/plain": [
       "torch.return_types.max(\n",
       "values=tensor([1.4959, 1.3251, 1.0818, 1.8340, 1.4502, 1.2356, 1.3627],\n",
       "       device='cuda:0', grad_fn=<MaxBackward0>),\n",
       "indices=tensor([142, 139, 142, 143, 142, 142, 142], device='cuda:0'))"
      ]
     },
     "execution_count": 284,
     "metadata": {},
     "output_type": "execute_result"
    }
   ],
   "source": [
    "model(image_features, prompts, text_features)"
   ]
  },
  {
   "cell_type": "code",
   "execution_count": 308,
   "metadata": {},
   "outputs": [
    {
     "data": {
      "text/plain": [
       "torch.Size([1, 1])"
      ]
     },
     "execution_count": 308,
     "metadata": {},
     "output_type": "execute_result"
    }
   ],
   "source": [
    "data['labels'].shape"
   ]
  },
  {
   "cell_type": "code",
   "execution_count": 327,
   "metadata": {},
   "outputs": [],
   "source": [
    "def train_one_epoch(model, optimizer, data_loader, device, prompts):\n",
    "\n",
    "    model.train()\n",
    "\n",
    "    # Zero the performance stats for each epoch\n",
    "    running_loss = 0.0\n",
    "    start_time = time.time()\n",
    "    total = 0\n",
    "    correct = 0\n",
    "    \n",
    "    for i, data in enumerate(data_loader):\n",
    "        # get the inputs; data is a list of [inputs, labels]\n",
    "        inputs = data['images']\n",
    "        labels = torch.squeeze(data['labels'])\n",
    "\n",
    "        inputs = inputs.to(device)\n",
    "        labels = labels.to(device)\n",
    "\n",
    "        image_features = get_image_features_per_layer(clip_model, inputs)\n",
    "        text_features = get_text_features_per_layer(clip_model, prompts)\n",
    "\n",
    "        # zero the parameter gradients\n",
    "        optimizer.zero_grad()\n",
    "\n",
    "        # forward + backward + optimize\n",
    "        output = model(image_features, prompts, text_features)\n",
    "        loss = criterion(output[0], labels)\n",
    "        # print(loss, output[0].grad)\n",
    "        loss.backward()\n",
    "        # print(loss, output[0].grad)\n",
    "        optimizer.step()\n",
    "        \n",
    "        predicted = torch.argmax(output[0])\n",
    "        print(i, '='*5, predicted, labels)\n",
    "        total += 1  ########################## labels.size(0)\n",
    "        correct += (predicted == labels).sum().item()\n",
    "        accuracy = 100 * correct / total\n",
    "    \n",
    "        # Print performance statistics\n",
    "        running_loss += loss.item()\n",
    "        if i % 10 == 0:    # print every 10 batches\n",
    "            batch_time = time.time()\n",
    "            speed = (i+1)/(batch_time-start_time)\n",
    "            print('[%5d] loss: %.3f, speed: %.2f, accuracy: %.2f %%' %\n",
    "                  (i, running_loss, speed, accuracy))\n",
    "\n",
    "            running_loss = 0.0\n",
    "            total = 0\n",
    "            correct = 0\n",
    "            break\n",
    "\n",
    "    \n",
    "def test_model(model, data_loader):\n",
    "\n",
    "    model.eval()\n",
    "\n",
    "    start_time = time.time()\n",
    "    total = 0\n",
    "    correct = 0\n",
    "    with torch.no_grad():\n",
    "        for i, data in enumerate(data_loader):\n",
    "            # get the inputs; data is a list of [inputs, labels]\n",
    "            inputs = data['images']\n",
    "            labels = torch.squeeze(data['labels'])\n",
    "\n",
    "            inputs = inputs.to(device)\n",
    "            labels = labels.to(device)\n",
    "\n",
    "            image_features = get_image_features_per_layer(clip_model, inputs)\n",
    "            text_features = get_text_features_per_layer(clip_model, prompts)\n",
    "\n",
    "            # zero the parameter gradients\n",
    "            optimizer.zero_grad()\n",
    "\n",
    "            # forward + backward + optimize\n",
    "            output = model(image_features, prompts, text_features)\n",
    "            # outputs = torch.Tensor(list(map(lambda x: x[0], output))).to(device)\n",
    "\n",
    "            predicted = torch.argmax(output[0])\n",
    "            total += 1 ########################## labels.size(0)\n",
    "            correct += (predicted == labels).sum().item()\n",
    "        \n",
    "            if i%10 == 0:\n",
    "                break\n",
    "        accuracy = 100 * correct / total\n",
    "            \n",
    "        print('Finished Testing')\n",
    "        print('Testing accuracy: %.1f %%' %(accuracy))"
   ]
  },
  {
   "attachments": {},
   "cell_type": "markdown",
   "metadata": {},
   "source": [
    "### lab"
   ]
  },
  {
   "cell_type": "code",
   "execution_count": 289,
   "metadata": {},
   "outputs": [
    {
     "data": {
      "text/plain": [
       "tensor(2, device='cuda:0')"
      ]
     },
     "execution_count": 289,
     "metadata": {},
     "output_type": "execute_result"
    }
   ],
   "source": [
    "data = next(iter(train_loader))\n",
    "inputs = data['images']\n",
    "labels = torch.squeeze(data['labels'])\n",
    "\n",
    "inputs = inputs.to(device)\n",
    "labels = labels.to(device)\n",
    "labels"
   ]
  },
  {
   "cell_type": "code",
   "execution_count": 287,
   "metadata": {},
   "outputs": [
    {
     "data": {
      "text/plain": [
       "(torch.Size([12, 1, 768]), torch.Size([12, 7, 77, 512]))"
      ]
     },
     "execution_count": 287,
     "metadata": {},
     "output_type": "execute_result"
    }
   ],
   "source": [
    "inputs.shape, prompts.shape\n",
    "get_image_features_per_layer(clip_model, inputs).shape, get_text_features_per_layer(clip_model, prompts).shape"
   ]
  },
  {
   "cell_type": "code",
   "execution_count": 107,
   "metadata": {},
   "outputs": [],
   "source": [
    "image_features = get_image_features_per_layer(clip_model, inputs)\n",
    "text_features = get_text_features_per_layer(clip_model, prompts)"
   ]
  },
  {
   "cell_type": "code",
   "execution_count": 290,
   "metadata": {},
   "outputs": [
    {
     "data": {
      "text/plain": [
       "torch.return_types.max(\n",
       "values=tensor([1.3213, 1.2870, 0.9971, 0.9502, 1.3020, 1.6231, 1.1956],\n",
       "       device='cuda:0', grad_fn=<MaxBackward0>),\n",
       "indices=tensor([141, 139, 139, 138, 139, 143, 142], device='cuda:0'))"
      ]
     },
     "execution_count": 290,
     "metadata": {},
     "output_type": "execute_result"
    }
   ],
   "source": [
    "output = model(image_features, prompts, text_features)\n",
    "output"
   ]
  },
  {
   "cell_type": "code",
   "execution_count": 126,
   "metadata": {},
   "outputs": [
    {
     "data": {
      "text/plain": [
       "(tensor([[33.2395, 28.6383, 27.9835, 37.3564, 32.7737, 30.8021, 35.0590],\n",
       "         [33.6642, 28.3727, 27.1275, 25.2947, 40.4309, 29.3082, 34.7931],\n",
       "         [33.8334, 29.4328, 28.4747, 37.0757, 34.1582, 29.9939, 36.0595],\n",
       "         [33.4167, 37.2045, 26.9609, 24.3298, 32.5465, 29.5641, 35.3329]],\n",
       "        device='cuda:0'),\n",
       " tensor([3, 4, 3, 1], device='cuda:0'))"
      ]
     },
     "execution_count": 126,
     "metadata": {},
     "output_type": "execute_result"
    }
   ],
   "source": [
    "# outputs = torch.Tensor(list(map(lambda x: x[0], scores))).to(device)\n",
    "# outputs, labels"
   ]
  },
  {
   "cell_type": "code",
   "execution_count": 292,
   "metadata": {},
   "outputs": [
    {
     "data": {
      "text/plain": [
       "tensor(2.2104, device='cuda:0', grad_fn=<NllLossBackward0>)"
      ]
     },
     "execution_count": 292,
     "metadata": {},
     "output_type": "execute_result"
    }
   ],
   "source": [
    "loss = criterion(output[0], labels)\n",
    "loss"
   ]
  },
  {
   "cell_type": "code",
   "execution_count": 128,
   "metadata": {},
   "outputs": [
    {
     "data": {
      "text/plain": [
       "torch.return_types.max(\n",
       "values=tensor([37.3564, 40.4309, 37.0757, 37.2045], device='cuda:0'),\n",
       "indices=tensor([3, 4, 3, 1], device='cuda:0'))"
      ]
     },
     "execution_count": 128,
     "metadata": {},
     "output_type": "execute_result"
    }
   ],
   "source": [
    "torch.max(outputs.data, 1)"
   ]
  },
  {
   "attachments": {},
   "cell_type": "markdown",
   "metadata": {},
   "source": [
    "### inference"
   ]
  },
  {
   "cell_type": "code",
   "execution_count": 328,
   "metadata": {},
   "outputs": [
    {
     "name": "stdout",
     "output_type": "stream",
     "text": [
      "------------------ Training Epoch 1 ------------------\n",
      "0 ===== tensor(3, device='cuda:0') tensor(3, device='cuda:0')\n",
      "[    0] loss: 1.445, speed: 0.06, accuracy: 100.00 %\n",
      "Finished Testing\n",
      "Testing accuracy: 100.0 %\n",
      "------------------ Training Epoch 2 ------------------\n",
      "0 ===== tensor(0, device='cuda:0') tensor(0, device='cuda:0')\n",
      "[    0] loss: 1.483, speed: 0.10, accuracy: 100.00 %\n",
      "Finished Testing\n",
      "Testing accuracy: 100.0 %\n",
      "------------------ Training Epoch 3 ------------------\n",
      "0 ===== tensor(4, device='cuda:0') tensor(4, device='cuda:0')\n",
      "[    0] loss: 1.458, speed: 0.07, accuracy: 100.00 %\n",
      "Finished Testing\n",
      "Testing accuracy: 100.0 %\n",
      "Finished Training\n"
     ]
    }
   ],
   "source": [
    "num_epochs = 3\n",
    "for epoch in range(num_epochs):  # loop over the dataset multiple times\n",
    "    print(\"------------------ Training Epoch {} ------------------\".format(epoch+1))\n",
    "    train_one_epoch(model, optimizer, train_loader, device, prompts)\n",
    "\n",
    "    test_model(model, test_loader)\n",
    "\n",
    "print('Finished Training')"
   ]
  },
  {
   "cell_type": "code",
   "execution_count": 326,
   "metadata": {},
   "outputs": [
    {
     "data": {
      "text/plain": [
       "tensor(5, device='cuda:0')"
      ]
     },
     "execution_count": 326,
     "metadata": {},
     "output_type": "execute_result"
    }
   ],
   "source": [
    "model(image_features, prompts, text_features)\n",
    "torch.argmax(output[0])"
   ]
  },
  {
   "cell_type": "code",
   "execution_count": null,
   "metadata": {},
   "outputs": [],
   "source": []
  }
 ],
 "metadata": {
  "kernelspec": {
   "display_name": "dev",
   "language": "python",
   "name": "python3"
  },
  "language_info": {
   "codemirror_mode": {
    "name": "ipython",
    "version": 3
   },
   "file_extension": ".py",
   "mimetype": "text/x-python",
   "name": "python",
   "nbconvert_exporter": "python",
   "pygments_lexer": "ipython3",
   "version": "3.9.15"
  },
  "orig_nbformat": 4,
  "vscode": {
   "interpreter": {
    "hash": "3e13486f50ad8491adee3900c65648710623e910042c80717865a7ec3732c806"
   }
  }
 },
 "nbformat": 4,
 "nbformat_minor": 2
}
