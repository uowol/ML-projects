{
 "cells": [
  {
   "cell_type": "code",
   "execution_count": 1,
   "metadata": {},
   "outputs": [],
   "source": [
    "import pandas as pd\n",
    "import numpy as np\n",
    "import torch\n",
    "from torch import nn \n",
    "from torch.utils.data import DataLoader     # 데이터로더는 데이터셋을 iterable하게 감싸는 역할\n",
    "from torchvision import datasets            # 데이터셋은 샘플과 정답을 저장함\n",
    "from torchvision.transforms import ToTensor\n",
    "import clip\n",
    "from PIL import Image"
   ]
  },
  {
   "attachments": {},
   "cell_type": "markdown",
   "metadata": {},
   "source": [
    "## CLIP model"
   ]
  },
  {
   "cell_type": "code",
   "execution_count": 2,
   "metadata": {},
   "outputs": [],
   "source": [
    "device = \"cuda\" if torch.cuda.is_available() else \"cpu\"\n",
    "model, preprocess = clip.load(\"ViT-B/32\", device=device)"
   ]
  },
  {
   "cell_type": "code",
   "execution_count": 3,
   "metadata": {},
   "outputs": [],
   "source": [
    "image_title = 'A horse in the space.png'\n",
    "\n",
    "prompts = [\n",
    "    \"A horse in the space\",\n",
    "    \"A dog in the space\",\n",
    "    \"A bear in the space\",\n",
    "    \"A person in the space\",\n",
    "    \"A horse in the park\",\n",
    "    \"A dog in the park\",\n",
    "    \"A bear in the park\",\n",
    "    \"A person in the park\",\n",
    "]\n",
    "\n",
    "image = preprocess(Image.open(image_title)).unsqueeze(0).to(device)\n",
    "text = clip.tokenize(prompts).to(device)"
   ]
  },
  {
   "cell_type": "code",
   "execution_count": 30,
   "metadata": {},
   "outputs": [
    {
     "data": {
      "text/plain": [
       "(tensor([[30.6719, 24.0625, 22.5156, 23.5312, 23.3750, 16.5312, 14.7188, 17.2344]],\n",
       "        device='cuda:0', dtype=torch.float16, grad_fn=<MmBackward0>),\n",
       " tensor([[30.6719],\n",
       "         [24.0625],\n",
       "         [22.5156],\n",
       "         [23.5312],\n",
       "         [23.3750],\n",
       "         [16.5312],\n",
       "         [14.7188],\n",
       "         [17.2344]], device='cuda:0', dtype=torch.float16, grad_fn=<TBackward0>))"
      ]
     },
     "execution_count": 30,
     "metadata": {},
     "output_type": "execute_result"
    }
   ],
   "source": [
    "model(image, text)"
   ]
  },
  {
   "attachments": {},
   "cell_type": "markdown",
   "metadata": {},
   "source": [
    "## Our Model"
   ]
  },
  {
   "cell_type": "code",
   "execution_count": 60,
   "metadata": {},
   "outputs": [],
   "source": [
    "def get_image_features_per_layer(clip_model, image):\n",
    "    features = [torch.zeros([image.shape[0], 768]) for i in range(clip_model.visual.transformer.layers)]\n",
    "\n",
    "    # image -> tokens\n",
    "    x = clip_model.visual.conv1(image.type(clip_model.visual.conv1.weight.dtype))\n",
    "    x = x.reshape(x.shape[0], x.shape[1], -1)   # shape = [*, width, grid ** 2]\n",
    "    x = x.permute(0, 2, 1)                      # shape = [*, grid ** 2, width]\n",
    "    x = torch.cat([clip_model.visual.class_embedding.to(x.dtype) + torch.zeros(x.shape[0], 1, x.shape[-1], dtype=x.dtype, device=x.device), x], dim=1)  # shape = [*, grid ** 2 + 1, width]\n",
    "    x = x + clip_model.visual.positional_embedding.to(x.dtype)\n",
    "    x = clip_model.visual.ln_pre(x)\n",
    "\n",
    "    # tokens -> transformer -> feature_embeddings\n",
    "    x = x.permute(1, 0, 2)          # NLD -> LND\n",
    "\n",
    "    for i in range(clip_model.visual.transformer.layers):\n",
    "        x = clip_model.visual.transformer.resblocks[i](x)\n",
    "        tmp = x.permute(1, 0, 2)    # LND -> NLD\n",
    "        tmp = tmp[:, 0, :]\n",
    "        features[i].copy_(tmp)\n",
    "\n",
    "    tensor = torch.stack(features, dim=0).detach()\n",
    "    # tensor.requires_grad = False\n",
    "\n",
    "    return tensor.to(device)"
   ]
  },
  {
   "cell_type": "code",
   "execution_count": 42,
   "metadata": {},
   "outputs": [],
   "source": [
    "def get_text_features_per_layer(clip_model, text):\n",
    "    features = [torch.zeros([*text.shape, 512]) for i in range(clip_model.transformer.layers)]\n",
    "\n",
    "    #%% clip_model.encode_image\n",
    "\n",
    "    x = clip_model.token_embedding(text).type(clip_model.dtype)  # [batch_size, n_ctx, d_clip_model]\n",
    "\n",
    "    x = x + clip_model.positional_embedding.type(clip_model.dtype)\n",
    "    x = x.permute(1, 0, 2)          # NLD -> LND\n",
    "\n",
    "    for i in range(clip_model.transformer.layers):\n",
    "        x = clip_model.transformer.resblocks[i](x)\n",
    "        tmp = x.permute(1, 0, 2)    # LND -> NLD\n",
    "        features[i].copy_(tmp)\n",
    "\n",
    "    tensor = torch.stack(features, dim=0).detach()\n",
    "    # tensor.requires_grad = False\n",
    "\n",
    "    return tensor.to(device)"
   ]
  },
  {
   "attachments": {},
   "cell_type": "markdown",
   "metadata": {},
   "source": [
    "#### lab"
   ]
  },
  {
   "cell_type": "code",
   "execution_count": 43,
   "metadata": {},
   "outputs": [
    {
     "data": {
      "text/plain": [
       "torch.Size([12, 1, 768])"
      ]
     },
     "execution_count": 43,
     "metadata": {},
     "output_type": "execute_result"
    }
   ],
   "source": [
    "model.visual.ln_post(get_image_features_per_layer(model, image).to(device)).shape"
   ]
  },
  {
   "cell_type": "code",
   "execution_count": 44,
   "metadata": {},
   "outputs": [
    {
     "data": {
      "text/plain": [
       "LayerNorm((512,), eps=1e-05, elementwise_affine=True)"
      ]
     },
     "execution_count": 44,
     "metadata": {},
     "output_type": "execute_result"
    }
   ],
   "source": [
    "model.ln_final"
   ]
  },
  {
   "cell_type": "code",
   "execution_count": 34,
   "metadata": {},
   "outputs": [
    {
     "data": {
      "text/plain": [
       "torch.Size([12, 8, 77, 512])"
      ]
     },
     "execution_count": 34,
     "metadata": {},
     "output_type": "execute_result"
    }
   ],
   "source": [
    "model.ln_final(get_text_features_per_layer(model, text).to(device)).shape"
   ]
  },
  {
   "cell_type": "code",
   "execution_count": 35,
   "metadata": {},
   "outputs": [
    {
     "data": {
      "text/plain": [
       "torch.Size([768, 512])"
      ]
     },
     "execution_count": 35,
     "metadata": {},
     "output_type": "execute_result"
    }
   ],
   "source": [
    "model.visual.proj.shape"
   ]
  },
  {
   "cell_type": "code",
   "execution_count": 36,
   "metadata": {},
   "outputs": [
    {
     "data": {
      "text/plain": [
       "tensor([[0.7060, 0.3264, 0.8114,  ..., 0.3201, 0.6791, 0.0149],\n",
       "        [0.8198, 0.7222, 0.8461,  ..., 0.4048, 0.2797, 0.4489],\n",
       "        [0.4857, 0.4051, 0.6350,  ..., 0.2085, 0.0135, 0.5073],\n",
       "        ...,\n",
       "        [0.2146, 0.3847, 0.2523,  ..., 0.9563, 0.4808, 0.8936],\n",
       "        [0.9526, 0.3367, 0.8129,  ..., 0.4689, 0.7941, 0.3421],\n",
       "        [0.1183, 0.8862, 0.1054,  ..., 0.7301, 0.8447, 0.9090]])"
      ]
     },
     "execution_count": 36,
     "metadata": {},
     "output_type": "execute_result"
    }
   ],
   "source": [
    "torch.rand(model.visual.proj.shape)"
   ]
  },
  {
   "cell_type": "code",
   "execution_count": 37,
   "metadata": {},
   "outputs": [
    {
     "data": {
      "text/plain": [
       "torch.Size([12, 768, 512])"
      ]
     },
     "execution_count": 37,
     "metadata": {},
     "output_type": "execute_result"
    }
   ],
   "source": [
    "proj = torch.stack([model.visual.proj for _ in range(12)])\n",
    "proj.shape"
   ]
  },
  {
   "cell_type": "code",
   "execution_count": 38,
   "metadata": {},
   "outputs": [
    {
     "data": {
      "text/plain": [
       "(True, False)"
      ]
     },
     "execution_count": 38,
     "metadata": {},
     "output_type": "execute_result"
    }
   ],
   "source": [
    "tmp = [model.visual.proj for _ in range(12)]\n",
    "tmp[0] is tmp[1], proj[0] is proj[1]"
   ]
  },
  {
   "cell_type": "code",
   "execution_count": 39,
   "metadata": {},
   "outputs": [
    {
     "name": "stdout",
     "output_type": "stream",
     "text": [
      "-0.0026264190673828125 -0.0026264190673828125\n",
      "-1.0 -0.0026264190673828125\n"
     ]
    }
   ],
   "source": [
    "print(proj[0][0][0].item(), proj[1][0][0].item())\n",
    "proj[0][0][0] = -1\n",
    "print(proj[0][0][0].item(), proj[1][0][0].item())\n",
    "# light copy"
   ]
  },
  {
   "cell_type": "code",
   "execution_count": 42,
   "metadata": {},
   "outputs": [
    {
     "data": {
      "text/plain": [
       "tensor(768, device='cuda:0')"
      ]
     },
     "execution_count": 42,
     "metadata": {},
     "output_type": "execute_result"
    }
   ],
   "source": [
    "tmp = get_image_features_per_layer(model, image).to(device)\n",
    "tmp1 = model.visual.ln_post(tmp)[0]\n",
    "tmp2 = model.visual.ln_post(tmp[0])\n",
    "(tmp1 == tmp2).sum()"
   ]
  },
  {
   "attachments": {},
   "cell_type": "markdown",
   "metadata": {},
   "source": [
    "#### inference"
   ]
  },
  {
   "cell_type": "code",
   "execution_count": 157,
   "metadata": {},
   "outputs": [],
   "source": [
    "# Define model\n",
    "class OurCLIP(nn.Module):        \n",
    "    def __init__(self, clip_model, # use pre-trained clip model\n",
    "                 use_one_ln1=True, use_one_ln2=True, \n",
    "                 use_one_projection1=True, use_one_projection2=True,\n",
    "                 trainable_ln1=False, trainable_ln2=False, \n",
    "                 trainable_projection1=False, trainable_projection2=False,\n",
    "                 threshold = 20): \n",
    "        super().__init__()\n",
    "\n",
    "        self.dtype = clip_model.dtype\n",
    "        self.threshold = threshold\n",
    "\n",
    "        ####################### 미구현\n",
    "        if use_one_ln1:\n",
    "            self.ln_post = clip_model.visual.ln_post\n",
    "        else: pass\n",
    "        if use_one_ln2:\n",
    "            self.ln_final = clip_model.ln_final\n",
    "        else: pass\n",
    "        ########################\n",
    "\n",
    "        if use_one_projection1:\n",
    "            clip_model.visual.proj.requires_grad = True\n",
    "            self.visual_projection = torch.stack([clip_model.visual.proj for _ in range(12)]).type(torch.float)\n",
    "            if not trainable_projection1:\n",
    "                self.visual_projection.detach().type(torch.float)\n",
    "        else:\n",
    "            self.visual_projection = torch.stack([*[torch.rand(clip_model.visual.proj.shape) for _ in range(11)],\n",
    "                                                   clip_model.visual.proj]).type(torch.float)\n",
    "        \n",
    "        if use_one_projection2:\n",
    "            clip_model.text_projection.requires_grad = True\n",
    "            self.textual_projection = torch.stack([clip_model.text_projection for _ in range(12)])\n",
    "            if not trainable_projection2:\n",
    "                self.visual_projection.detach()\n",
    "        else:\n",
    "            self.textual_projection = torch.stack([*[torch.rand(clip_model.text_projection.shape) for _ in range(11)], \n",
    "                                                   clip_model.text_projection])\n",
    "\n",
    "\n",
    "    def forward(self, image_features, text, text_features):    \n",
    "        # image_features = image_features.to(device)\n",
    "        # text_features = text_features.to(device)\n",
    "\n",
    "        image_features = self.ln_post(image_features)                   # (12, batch_size, 768)\n",
    "        image_embeddings = image_features @ self.visual_projection      # (12, batch_size, 512)  <- we'll use it\n",
    "\n",
    "        text_features = self.ln_final(text_features).type(self.dtype)   # (12, seq_len, 77, 512)\n",
    "        text_embeddings = text_features[:, torch.arange(text_features.shape[1]), text.argmax(dim=-1)] @ self.textual_projection  \n",
    "                                                                        # (12, seq_len, 512)  <- we'll use it\n",
    "        print(text_embeddings.shape, image_embeddings.shape)\n",
    "        scores = [[[], [], []] for _ in range(image_features.shape[1])]\n",
    "\n",
    "        for k in range(image_features.shape[1]):\n",
    "            for _class in range(text_features.shape[1]):\n",
    "                # print(image_embeddings[0].shape)\n",
    "                # print(text_embeddings[0][[_class]].T.shape)\n",
    "                # print((image_embeddings[0] @ text_embeddings[0][[_class]].T.type(torch.float)).item())\n",
    "                img_similarity_by_layer = [[(image_embeddings[i][[k]] @ text_embeddings[j][[_class]].T.type(torch.float)).item()\n",
    "                                            for j in range(12)] for i in range(12)]\n",
    "                scores[k][0].append(np.max(img_similarity_by_layer))\n",
    "                scores[k][1].append(np.mean(img_similarity_by_layer))\n",
    "                scores[k][2].append(sum(list(map(lambda x: sum([y > self.threshold for y in x]), img_similarity_by_layer))))\n",
    "\n",
    "        return scores"
   ]
  },
  {
   "cell_type": "code",
   "execution_count": 158,
   "metadata": {},
   "outputs": [
    {
     "name": "stdout",
     "output_type": "stream",
     "text": [
      "OurCLIP(\n",
      "  (ln_post): LayerNorm((768,), eps=1e-05, elementwise_affine=True)\n",
      "  (ln_final): LayerNorm((512,), eps=1e-05, elementwise_affine=True)\n",
      ")\n"
     ]
    }
   ],
   "source": [
    "device = \"cuda\" if torch.cuda.is_available() else \"cpu\"\n",
    "clip_model, preprocess = clip.load(\"ViT-B/32\", device=device)\n",
    "\n",
    "model = OurCLIP(clip_model, trainable_projection1=True, trainable_projection2=True).to(device)  # model을 initialize하는 부분\n",
    "print(model)"
   ]
  },
  {
   "attachments": {},
   "cell_type": "markdown",
   "metadata": {},
   "source": [
    "### lab"
   ]
  },
  {
   "cell_type": "code",
   "execution_count": 74,
   "metadata": {},
   "outputs": [],
   "source": [
    "image_title = 'A horse in the space.png'\n",
    "\n",
    "prompts = [\n",
    "    \"A horse in the space\",\n",
    "    \"A dog in the space\",\n",
    "    \"A bear in the space\",\n",
    "    \"A person in the space\",\n",
    "    \"A horse in the park\",\n",
    "    \"A dog in the park\",\n",
    "    \"A bear in the park\",\n",
    "    \"A person in the park\",\n",
    "]\n",
    "\n",
    "image = preprocess(Image.open(image_title)).unsqueeze(0).to(device)\n",
    "text = clip.tokenize(prompts).to(device)"
   ]
  },
  {
   "cell_type": "code",
   "execution_count": 75,
   "metadata": {},
   "outputs": [],
   "source": [
    "image_features = get_image_features_per_layer(clip_model, image)\n",
    "text_features = get_text_features_per_layer(clip_model, text)"
   ]
  },
  {
   "cell_type": "code",
   "execution_count": 49,
   "metadata": {},
   "outputs": [
    {
     "data": {
      "text/plain": [
       "[[33.82638168334961,\n",
       "  26.978994369506836,\n",
       "  26.948450088500977,\n",
       "  30.468639373779297,\n",
       "  25.630268096923828,\n",
       "  20.795486450195312,\n",
       "  22.559879302978516,\n",
       "  23.461559295654297],\n",
       " [12.221618531478775,\n",
       "  12.280218217107985,\n",
       "  12.698671211798986,\n",
       "  14.021323535177443,\n",
       "  11.308028957910008,\n",
       "  10.396428364846441,\n",
       "  11.075213006801075,\n",
       "  10.72875845928987],\n",
       " [14, 13, 13, 13, 6, 1, 6, 11]]"
      ]
     },
     "execution_count": 49,
     "metadata": {},
     "output_type": "execute_result"
    }
   ],
   "source": [
    "model(image_features, text_features)"
   ]
  },
  {
   "cell_type": "code",
   "execution_count": 50,
   "metadata": {},
   "outputs": [
    {
     "data": {
      "text/plain": [
       "torch.Size([512, 512])"
      ]
     },
     "execution_count": 50,
     "metadata": {},
     "output_type": "execute_result"
    }
   ],
   "source": [
    "clip_model.text_projection.shape"
   ]
  },
  {
   "attachments": {},
   "cell_type": "markdown",
   "metadata": {},
   "source": [
    "## Train"
   ]
  },
  {
   "attachments": {},
   "cell_type": "markdown",
   "metadata": {},
   "source": [
    "### Load-Dataset"
   ]
  },
  {
   "cell_type": "code",
   "execution_count": 51,
   "metadata": {},
   "outputs": [],
   "source": [
    "import deeplake\n",
    "from PIL import Image\n",
    "import numpy as np\n",
    "import os, time\n",
    "import torch\n",
    "from torchvision import transforms, models"
   ]
  },
  {
   "cell_type": "code",
   "execution_count": 52,
   "metadata": {},
   "outputs": [
    {
     "name": "stdout",
     "output_type": "stream",
     "text": [
      "hub://activeloop/pacs-train loaded successfully.\n",
      "This dataset can be visualized in Jupyter Notebook by ds.visualize() or at https://app.activeloop.ai/activeloop/pacs-train\n",
      "hub://activeloop/pacs-test loaded successfully.\n",
      "This dataset can be visualized in Jupyter Notebook by ds.visualize() or at https://app.activeloop.ai/activeloop/pacs-test\n"
     ]
    }
   ],
   "source": [
    "# Connect to the training and testing datasets\n",
    "ds_train = deeplake.load('hub://activeloop/pacs-train')\n",
    "ds_test = deeplake.load('hub://activeloop/pacs-test')\n",
    "\n",
    "tform = transforms.Compose([\n",
    "    transforms.RandomRotation(20), # Image augmentation\n",
    "    transforms.ToTensor(), # Must convert to pytorch tensor for subsequent operations to run\n",
    "    transforms.Normalize([0.5], [0.5]),\n",
    "])\n",
    "batch_size = 4"
   ]
  },
  {
   "cell_type": "code",
   "execution_count": 143,
   "metadata": {},
   "outputs": [],
   "source": [
    "# Specity the loss function and optimizer\n",
    "model.to(device)\n",
    "\n",
    "criterion = torch.nn.CrossEntropyLoss()\n",
    "optimizer = torch.optim.SGD(model.parameters(), lr=0.001, momentum=0.1)"
   ]
  },
  {
   "cell_type": "code",
   "execution_count": 144,
   "metadata": {},
   "outputs": [
    {
     "name": "stdout",
     "output_type": "stream",
     "text": [
      "torch.Size([7, 77])\n"
     ]
    }
   ],
   "source": [
    "pacs_class = [\n",
    "    'a dog', 'an elephant', 'a giraffe', 'a guitar', 'a horse', 'a house', 'a person'\n",
    "]\n",
    "\n",
    "def prompt(idx):\n",
    "    return f\"An image of {pacs_class[idx]}\"\n",
    "\n",
    "prompts = clip.tokenize([prompt(x) for x in range(7)]).to(device)\n",
    "print(prompts.shape)"
   ]
  },
  {
   "cell_type": "code",
   "execution_count": 145,
   "metadata": {},
   "outputs": [],
   "source": [
    "# Since torchvision transforms expect PIL images, we use the 'pil' decode_method for the 'images' tensor. This is much faster than running ToPILImage inside the transform\n",
    "train_loader = ds_train.pytorch(num_workers = 0, shuffle = True, \n",
    "                                transform = {'images': tform, 'labels': None}, \n",
    "                                batch_size = batch_size, decode_method = {'images': 'pil'})\n",
    "test_loader = ds_test.pytorch(num_workers = 0, transform = {'images': tform, 'labels': None}, \n",
    "                                batch_size = batch_size, decode_method = {'images': 'pil'})"
   ]
  },
  {
   "cell_type": "code",
   "execution_count": 129,
   "metadata": {},
   "outputs": [],
   "source": [
    "def train_one_epoch(model, optimizer, data_loader, device, prompts):\n",
    "\n",
    "    model.train()\n",
    "\n",
    "    # Zero the performance stats for each epoch\n",
    "    running_loss = 0.0\n",
    "    start_time = time.time()\n",
    "    total = 0\n",
    "    correct = 0\n",
    "    \n",
    "    for i, data in enumerate(data_loader):\n",
    "        # get the inputs; data is a list of [inputs, labels]\n",
    "        inputs = data['images']\n",
    "        labels = torch.squeeze(data['labels'])\n",
    "\n",
    "        inputs = inputs.to(device)\n",
    "        labels = labels.to(device)\n",
    "\n",
    "        image_features = get_image_features_per_layer(clip_model, inputs)\n",
    "        text_features = get_text_features_per_layer(clip_model, prompts)\n",
    "\n",
    "        # zero the parameter gradients\n",
    "        optimizer.zero_grad()\n",
    "\n",
    "        # forward + backward + optimize\n",
    "        ###################################### output이 Tensor가 아닌 list인데 괜찮은지\n",
    "        scores = model(image_features, prompts, text_features)\n",
    "        outputs = torch.Tensor(list(map(lambda x: x[0], scores))).to(device)   # 여기서 tensor 객체를 새롭게 정의하는 것이 의미있는가\n",
    "        loss = criterion(outputs, labels)\n",
    "        loss.backward()\n",
    "        optimizer.step()\n",
    "        ######################################\n",
    "        \n",
    "        _, predicted = torch.max(outputs.data, 1)\n",
    "        total += labels.size(0)\n",
    "        correct += (predicted == labels).sum().item()\n",
    "        accuracy = 100 * correct / total\n",
    "    \n",
    "        # Print performance statistics\n",
    "        running_loss += loss.item()\n",
    "        if i % 10 == 0:    # print every 10 batches\n",
    "            batch_time = time.time()\n",
    "            speed = (i+1)/(batch_time-start_time)\n",
    "            print('[%5d] loss: %.3f, speed: %.2f, accuracy: %.2f %%' %\n",
    "                  (i, running_loss, speed, accuracy))\n",
    "\n",
    "            running_loss = 0.0\n",
    "            total = 0\n",
    "            correct = 0\n",
    "            break\n",
    "\n",
    "    \n",
    "def test_model(model, data_loader):\n",
    "\n",
    "    model.eval()\n",
    "\n",
    "    start_time = time.time()\n",
    "    total = 0\n",
    "    correct = 0\n",
    "    with torch.no_grad():\n",
    "        for i, data in enumerate(data_loader):\n",
    "            # get the inputs; data is a list of [inputs, labels]\n",
    "            inputs = data['images']\n",
    "            labels = torch.squeeze(data['labels'])\n",
    "\n",
    "            inputs = inputs.to(device)\n",
    "            labels = labels.to(device)\n",
    "\n",
    "            image_features = get_image_features_per_layer(clip_model, inputs)\n",
    "            text_features = get_text_features_per_layer(clip_model, prompts)\n",
    "\n",
    "            # zero the parameter gradients\n",
    "            optimizer.zero_grad()\n",
    "\n",
    "            # forward + backward + optimize\n",
    "            scores = model(image_features, prompts, text_features)\n",
    "            outputs = torch.Tensor(list(map(lambda x: x[0], scores))).to(device)\n",
    "\n",
    "            _, predicted = torch.max(outputs.data, 1)\n",
    "            total += labels.size(0)\n",
    "            correct += (predicted == labels).sum().item()\n",
    "        accuracy = 100 * correct / total\n",
    "            \n",
    "        print('Finished Testing')\n",
    "        print('Testing accuracy: %.1f %%' %(accuracy))"
   ]
  },
  {
   "attachments": {},
   "cell_type": "markdown",
   "metadata": {},
   "source": [
    "### lab"
   ]
  },
  {
   "cell_type": "code",
   "execution_count": 63,
   "metadata": {},
   "outputs": [
    {
     "data": {
      "text/plain": [
       "(torch.Size([12, 4, 768]), torch.Size([12, 7, 77, 512]))"
      ]
     },
     "execution_count": 63,
     "metadata": {},
     "output_type": "execute_result"
    }
   ],
   "source": [
    "inputs.shape, prompts.shape\n",
    "get_image_features_per_layer(clip_model, inputs).shape, get_text_features_per_layer(clip_model, prompts).shape"
   ]
  },
  {
   "cell_type": "code",
   "execution_count": 107,
   "metadata": {},
   "outputs": [],
   "source": [
    "image_features = get_image_features_per_layer(clip_model, inputs)\n",
    "text_features = get_text_features_per_layer(clip_model, prompts)"
   ]
  },
  {
   "cell_type": "code",
   "execution_count": 116,
   "metadata": {},
   "outputs": [
    {
     "name": "stdout",
     "output_type": "stream",
     "text": [
      "torch.Size([12, 7, 512]) torch.Size([12, 4, 512])\n"
     ]
    }
   ],
   "source": [
    "scores = model(image_features, prompts, text_features)"
   ]
  },
  {
   "cell_type": "code",
   "execution_count": 126,
   "metadata": {},
   "outputs": [
    {
     "data": {
      "text/plain": [
       "(tensor([[33.2395, 28.6383, 27.9835, 37.3564, 32.7737, 30.8021, 35.0590],\n",
       "         [33.6642, 28.3727, 27.1275, 25.2947, 40.4309, 29.3082, 34.7931],\n",
       "         [33.8334, 29.4328, 28.4747, 37.0757, 34.1582, 29.9939, 36.0595],\n",
       "         [33.4167, 37.2045, 26.9609, 24.3298, 32.5465, 29.5641, 35.3329]],\n",
       "        device='cuda:0'),\n",
       " tensor([3, 4, 3, 1], device='cuda:0'))"
      ]
     },
     "execution_count": 126,
     "metadata": {},
     "output_type": "execute_result"
    }
   ],
   "source": [
    "outputs = torch.Tensor(list(map(lambda x: x[0], scores))).to(device)\n",
    "outputs, labels"
   ]
  },
  {
   "cell_type": "code",
   "execution_count": 127,
   "metadata": {},
   "outputs": [
    {
     "data": {
      "text/plain": [
       "tensor(0.1682, device='cuda:0')"
      ]
     },
     "execution_count": 127,
     "metadata": {},
     "output_type": "execute_result"
    }
   ],
   "source": [
    "loss = criterion(outputs, labels)\n",
    "loss"
   ]
  },
  {
   "cell_type": "code",
   "execution_count": 128,
   "metadata": {},
   "outputs": [
    {
     "data": {
      "text/plain": [
       "torch.return_types.max(\n",
       "values=tensor([37.3564, 40.4309, 37.0757, 37.2045], device='cuda:0'),\n",
       "indices=tensor([3, 4, 3, 1], device='cuda:0'))"
      ]
     },
     "execution_count": 128,
     "metadata": {},
     "output_type": "execute_result"
    }
   ],
   "source": [
    "torch.max(outputs.data, 1)"
   ]
  },
  {
   "attachments": {},
   "cell_type": "markdown",
   "metadata": {},
   "source": [
    "### inference"
   ]
  },
  {
   "cell_type": "code",
   "execution_count": 159,
   "metadata": {},
   "outputs": [
    {
     "name": "stdout",
     "output_type": "stream",
     "text": [
      "------------------ Training Epoch 1 ------------------\n",
      "torch.Size([12, 7, 512]) torch.Size([12, 4, 512])\n"
     ]
    },
    {
     "ename": "RuntimeError",
     "evalue": "element 0 of tensors does not require grad and does not have a grad_fn",
     "output_type": "error",
     "traceback": [
      "\u001b[1;31m---------------------------------------------------------------------------\u001b[0m",
      "\u001b[1;31mRuntimeError\u001b[0m                              Traceback (most recent call last)",
      "Cell \u001b[1;32mIn [159], line 4\u001b[0m\n\u001b[0;32m      2\u001b[0m \u001b[39mfor\u001b[39;00m epoch \u001b[39min\u001b[39;00m \u001b[39mrange\u001b[39m(num_epochs):  \u001b[39m# loop over the dataset multiple times\u001b[39;00m\n\u001b[0;32m      3\u001b[0m     \u001b[39mprint\u001b[39m(\u001b[39m\"\u001b[39m\u001b[39m------------------ Training Epoch \u001b[39m\u001b[39m{}\u001b[39;00m\u001b[39m ------------------\u001b[39m\u001b[39m\"\u001b[39m\u001b[39m.\u001b[39mformat(epoch\u001b[39m+\u001b[39m\u001b[39m1\u001b[39m))\n\u001b[1;32m----> 4\u001b[0m     train_one_epoch(model, optimizer, train_loader, device, prompts)\n\u001b[0;32m      6\u001b[0m     test_model(model, test_loader)\n\u001b[0;32m      8\u001b[0m \u001b[39mprint\u001b[39m(\u001b[39m'\u001b[39m\u001b[39mFinished Training\u001b[39m\u001b[39m'\u001b[39m)\n",
      "Cell \u001b[1;32mIn [129], line 30\u001b[0m, in \u001b[0;36mtrain_one_epoch\u001b[1;34m(model, optimizer, data_loader, device, prompts)\u001b[0m\n\u001b[0;32m     28\u001b[0m outputs \u001b[39m=\u001b[39m torch\u001b[39m.\u001b[39mTensor(\u001b[39mlist\u001b[39m(\u001b[39mmap\u001b[39m(\u001b[39mlambda\u001b[39;00m x: x[\u001b[39m0\u001b[39m], scores)))\u001b[39m.\u001b[39mto(device)   \u001b[39m# 여기서 tensor 객체를 새롭게 정의하는 것이 의미있는가\u001b[39;00m\n\u001b[0;32m     29\u001b[0m loss \u001b[39m=\u001b[39m criterion(outputs, labels)\n\u001b[1;32m---> 30\u001b[0m loss\u001b[39m.\u001b[39;49mbackward()\n\u001b[0;32m     31\u001b[0m optimizer\u001b[39m.\u001b[39mstep()\n\u001b[0;32m     32\u001b[0m \u001b[39m######################################\u001b[39;00m\n",
      "File \u001b[1;32mc:\\Users\\alllh\\anaconda3\\envs\\dev\\lib\\site-packages\\torch\\_tensor.py:488\u001b[0m, in \u001b[0;36mTensor.backward\u001b[1;34m(self, gradient, retain_graph, create_graph, inputs)\u001b[0m\n\u001b[0;32m    478\u001b[0m \u001b[39mif\u001b[39;00m has_torch_function_unary(\u001b[39mself\u001b[39m):\n\u001b[0;32m    479\u001b[0m     \u001b[39mreturn\u001b[39;00m handle_torch_function(\n\u001b[0;32m    480\u001b[0m         Tensor\u001b[39m.\u001b[39mbackward,\n\u001b[0;32m    481\u001b[0m         (\u001b[39mself\u001b[39m,),\n\u001b[1;32m   (...)\u001b[0m\n\u001b[0;32m    486\u001b[0m         inputs\u001b[39m=\u001b[39minputs,\n\u001b[0;32m    487\u001b[0m     )\n\u001b[1;32m--> 488\u001b[0m torch\u001b[39m.\u001b[39;49mautograd\u001b[39m.\u001b[39;49mbackward(\n\u001b[0;32m    489\u001b[0m     \u001b[39mself\u001b[39;49m, gradient, retain_graph, create_graph, inputs\u001b[39m=\u001b[39;49minputs\n\u001b[0;32m    490\u001b[0m )\n",
      "File \u001b[1;32mc:\\Users\\alllh\\anaconda3\\envs\\dev\\lib\\site-packages\\torch\\autograd\\__init__.py:197\u001b[0m, in \u001b[0;36mbackward\u001b[1;34m(tensors, grad_tensors, retain_graph, create_graph, grad_variables, inputs)\u001b[0m\n\u001b[0;32m    192\u001b[0m     retain_graph \u001b[39m=\u001b[39m create_graph\n\u001b[0;32m    194\u001b[0m \u001b[39m# The reason we repeat same the comment below is that\u001b[39;00m\n\u001b[0;32m    195\u001b[0m \u001b[39m# some Python versions print out the first line of a multi-line function\u001b[39;00m\n\u001b[0;32m    196\u001b[0m \u001b[39m# calls in the traceback and some print out the last line\u001b[39;00m\n\u001b[1;32m--> 197\u001b[0m Variable\u001b[39m.\u001b[39;49m_execution_engine\u001b[39m.\u001b[39;49mrun_backward(  \u001b[39m# Calls into the C++ engine to run the backward pass\u001b[39;49;00m\n\u001b[0;32m    198\u001b[0m     tensors, grad_tensors_, retain_graph, create_graph, inputs,\n\u001b[0;32m    199\u001b[0m     allow_unreachable\u001b[39m=\u001b[39;49m\u001b[39mTrue\u001b[39;49;00m, accumulate_grad\u001b[39m=\u001b[39;49m\u001b[39mTrue\u001b[39;49;00m)\n",
      "\u001b[1;31mRuntimeError\u001b[0m: element 0 of tensors does not require grad and does not have a grad_fn"
     ]
    }
   ],
   "source": [
    "num_epochs = 3\n",
    "for epoch in range(num_epochs):  # loop over the dataset multiple times\n",
    "    print(\"------------------ Training Epoch {} ------------------\".format(epoch+1))\n",
    "    train_one_epoch(model, optimizer, train_loader, device, prompts)\n",
    "\n",
    "    test_model(model, test_loader)\n",
    "\n",
    "print('Finished Training')"
   ]
  },
  {
   "cell_type": "code",
   "execution_count": 137,
   "metadata": {},
   "outputs": [
    {
     "data": {
      "text/plain": [
       "tensor([[[-2.6264e-03,  5.0962e-05,  2.7496e-02,  ..., -1.0025e-02,\n",
       "          -1.2222e-02,  5.8403e-03],\n",
       "         [-1.9852e-02,  7.1182e-03,  8.9788e-04,  ...,  1.1528e-02,\n",
       "          -1.9485e-02, -8.0185e-03],\n",
       "         [-8.6288e-03,  1.9226e-03, -2.1725e-03,  ...,  3.9330e-03,\n",
       "          -1.1269e-02,  1.5345e-03],\n",
       "         ...,\n",
       "         [-1.1993e-02,  1.2955e-02,  2.5848e-02,  ..., -9.8038e-03,\n",
       "          -4.2076e-03,  1.5211e-04],\n",
       "         [-1.2871e-02, -9.5673e-03, -1.0826e-02,  ..., -7.0610e-03,\n",
       "          -4.3182e-03, -4.9353e-04],\n",
       "         [-4.4098e-03,  3.3588e-03, -1.2054e-02,  ...,  6.1073e-03,\n",
       "           3.9940e-03, -3.0861e-03]],\n",
       "\n",
       "        [[-2.6264e-03,  5.0962e-05,  2.7496e-02,  ..., -1.0025e-02,\n",
       "          -1.2222e-02,  5.8403e-03],\n",
       "         [-1.9852e-02,  7.1182e-03,  8.9788e-04,  ...,  1.1528e-02,\n",
       "          -1.9485e-02, -8.0185e-03],\n",
       "         [-8.6288e-03,  1.9226e-03, -2.1725e-03,  ...,  3.9330e-03,\n",
       "          -1.1269e-02,  1.5345e-03],\n",
       "         ...,\n",
       "         [-1.1993e-02,  1.2955e-02,  2.5848e-02,  ..., -9.8038e-03,\n",
       "          -4.2076e-03,  1.5211e-04],\n",
       "         [-1.2871e-02, -9.5673e-03, -1.0826e-02,  ..., -7.0610e-03,\n",
       "          -4.3182e-03, -4.9353e-04],\n",
       "         [-4.4098e-03,  3.3588e-03, -1.2054e-02,  ...,  6.1073e-03,\n",
       "           3.9940e-03, -3.0861e-03]],\n",
       "\n",
       "        [[-2.6264e-03,  5.0962e-05,  2.7496e-02,  ..., -1.0025e-02,\n",
       "          -1.2222e-02,  5.8403e-03],\n",
       "         [-1.9852e-02,  7.1182e-03,  8.9788e-04,  ...,  1.1528e-02,\n",
       "          -1.9485e-02, -8.0185e-03],\n",
       "         [-8.6288e-03,  1.9226e-03, -2.1725e-03,  ...,  3.9330e-03,\n",
       "          -1.1269e-02,  1.5345e-03],\n",
       "         ...,\n",
       "         [-1.1993e-02,  1.2955e-02,  2.5848e-02,  ..., -9.8038e-03,\n",
       "          -4.2076e-03,  1.5211e-04],\n",
       "         [-1.2871e-02, -9.5673e-03, -1.0826e-02,  ..., -7.0610e-03,\n",
       "          -4.3182e-03, -4.9353e-04],\n",
       "         [-4.4098e-03,  3.3588e-03, -1.2054e-02,  ...,  6.1073e-03,\n",
       "           3.9940e-03, -3.0861e-03]],\n",
       "\n",
       "        ...,\n",
       "\n",
       "        [[-2.6264e-03,  5.0962e-05,  2.7496e-02,  ..., -1.0025e-02,\n",
       "          -1.2222e-02,  5.8403e-03],\n",
       "         [-1.9852e-02,  7.1182e-03,  8.9788e-04,  ...,  1.1528e-02,\n",
       "          -1.9485e-02, -8.0185e-03],\n",
       "         [-8.6288e-03,  1.9226e-03, -2.1725e-03,  ...,  3.9330e-03,\n",
       "          -1.1269e-02,  1.5345e-03],\n",
       "         ...,\n",
       "         [-1.1993e-02,  1.2955e-02,  2.5848e-02,  ..., -9.8038e-03,\n",
       "          -4.2076e-03,  1.5211e-04],\n",
       "         [-1.2871e-02, -9.5673e-03, -1.0826e-02,  ..., -7.0610e-03,\n",
       "          -4.3182e-03, -4.9353e-04],\n",
       "         [-4.4098e-03,  3.3588e-03, -1.2054e-02,  ...,  6.1073e-03,\n",
       "           3.9940e-03, -3.0861e-03]],\n",
       "\n",
       "        [[-2.6264e-03,  5.0962e-05,  2.7496e-02,  ..., -1.0025e-02,\n",
       "          -1.2222e-02,  5.8403e-03],\n",
       "         [-1.9852e-02,  7.1182e-03,  8.9788e-04,  ...,  1.1528e-02,\n",
       "          -1.9485e-02, -8.0185e-03],\n",
       "         [-8.6288e-03,  1.9226e-03, -2.1725e-03,  ...,  3.9330e-03,\n",
       "          -1.1269e-02,  1.5345e-03],\n",
       "         ...,\n",
       "         [-1.1993e-02,  1.2955e-02,  2.5848e-02,  ..., -9.8038e-03,\n",
       "          -4.2076e-03,  1.5211e-04],\n",
       "         [-1.2871e-02, -9.5673e-03, -1.0826e-02,  ..., -7.0610e-03,\n",
       "          -4.3182e-03, -4.9353e-04],\n",
       "         [-4.4098e-03,  3.3588e-03, -1.2054e-02,  ...,  6.1073e-03,\n",
       "           3.9940e-03, -3.0861e-03]],\n",
       "\n",
       "        [[-2.6264e-03,  5.0962e-05,  2.7496e-02,  ..., -1.0025e-02,\n",
       "          -1.2222e-02,  5.8403e-03],\n",
       "         [-1.9852e-02,  7.1182e-03,  8.9788e-04,  ...,  1.1528e-02,\n",
       "          -1.9485e-02, -8.0185e-03],\n",
       "         [-8.6288e-03,  1.9226e-03, -2.1725e-03,  ...,  3.9330e-03,\n",
       "          -1.1269e-02,  1.5345e-03],\n",
       "         ...,\n",
       "         [-1.1993e-02,  1.2955e-02,  2.5848e-02,  ..., -9.8038e-03,\n",
       "          -4.2076e-03,  1.5211e-04],\n",
       "         [-1.2871e-02, -9.5673e-03, -1.0826e-02,  ..., -7.0610e-03,\n",
       "          -4.3182e-03, -4.9353e-04],\n",
       "         [-4.4098e-03,  3.3588e-03, -1.2054e-02,  ...,  6.1073e-03,\n",
       "           3.9940e-03, -3.0861e-03]]], device='cuda:0',\n",
       "       grad_fn=<ToCopyBackward0>)"
      ]
     },
     "execution_count": 137,
     "metadata": {},
     "output_type": "execute_result"
    }
   ],
   "source": [
    "model.visual_projection.requires_grad_(True)"
   ]
  },
  {
   "cell_type": "code",
   "execution_count": null,
   "metadata": {},
   "outputs": [],
   "source": []
  }
 ],
 "metadata": {
  "kernelspec": {
   "display_name": "dev",
   "language": "python",
   "name": "python3"
  },
  "language_info": {
   "codemirror_mode": {
    "name": "ipython",
    "version": 3
   },
   "file_extension": ".py",
   "mimetype": "text/x-python",
   "name": "python",
   "nbconvert_exporter": "python",
   "pygments_lexer": "ipython3",
   "version": "3.9.15"
  },
  "orig_nbformat": 4,
  "vscode": {
   "interpreter": {
    "hash": "3e13486f50ad8491adee3900c65648710623e910042c80717865a7ec3732c806"
   }
  }
 },
 "nbformat": 4,
 "nbformat_minor": 2
}
