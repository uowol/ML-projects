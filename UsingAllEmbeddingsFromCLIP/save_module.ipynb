{
 "cells": [
  {
   "cell_type": "code",
   "execution_count": 1,
   "metadata": {},
   "outputs": [
    {
     "name": "stderr",
     "output_type": "stream",
     "text": [
      "c:\\Users\\alllh\\anaconda3\\envs\\dev\\lib\\site-packages\\deeplake\\util\\check_latest_version.py:32: UserWarning: A newer version of deeplake (3.2.15) is available. It's recommended that you update to the latest version using `pip install -U deeplake`.\n",
      "  warnings.warn(\n"
     ]
    },
    {
     "name": "stdout",
     "output_type": "stream",
     "text": [
      "hub://activeloop/pacs-train loaded successfully.\n",
      "This dataset can be visualized in Jupyter Notebook by ds.visualize() or at https://app.activeloop.ai/activeloop/pacs-train\n",
      "hub://activeloop/pacs-test loaded successfully.\n",
      "This dataset can be visualized in Jupyter Notebook by ds.visualize() or at https://app.activeloop.ai/activeloop/pacs-test\n"
     ]
    }
   ],
   "source": [
    "import deeplake\n",
    "from torchvision import transforms, models\n",
    "\n",
    "ds_train = deeplake.load('hub://activeloop/pacs-train')\n",
    "ds_test = deeplake.load('hub://activeloop/pacs-test')"
   ]
  },
  {
   "cell_type": "code",
   "execution_count": 2,
   "metadata": {},
   "outputs": [],
   "source": [
    "import torch\n",
    "from torch import nn \n",
    "from torch.utils.data import DataLoader\n",
    "\n",
    "import clip\n",
    "\n",
    "device = \"cuda\" if torch.cuda.is_available() else \"cpu\"\n",
    "clip_model, preprocess = clip.load(\"ViT-B/32\", device=device)"
   ]
  },
  {
   "cell_type": "code",
   "execution_count": 3,
   "metadata": {},
   "outputs": [],
   "source": [
    "def get_image_features(clip_model, images):\n",
    "    num_image_layer = clip_model.visual.transformer.layers\n",
    "    images = images.to(device)\n",
    "\n",
    "    out_list = []\n",
    "    x = clip_model.visual.conv1(images.type(clip_model.dtype))\n",
    "    x = x.reshape(x.shape[0], x.shape[1], -1)   # shape = [*, width, grid ** 2]\n",
    "    x = x.permute(0, 2, 1)                      # shape = [*, grid ** 2, width]\n",
    "    x = torch.cat([clip_model.visual.class_embedding.to(x.dtype) + \n",
    "                   torch.zeros(x.shape[0], 1, x.shape[-1], dtype=x.dtype, device=x.device), x], dim=1)  # shape = [*, grid ** 2 + 1, width]\n",
    "    x = x + clip_model.visual.positional_embedding.to(x.dtype)\n",
    "    x = clip_model.visual.ln_pre(x)\n",
    "    x = x.permute(1, 0, 2)          # NLD -> LND\n",
    "\n",
    "    for i in range(num_image_layer):\n",
    "        x = clip_model.visual.transformer.resblocks[i](x)\n",
    "        tmp = x.permute(1, 0, 2)    # LND -> NLD\n",
    "        tmp = tmp[:, 0, :].detach()\n",
    "        out_list.append(tmp)\n",
    "\n",
    "    image_features = torch.stack(out_list)\n",
    "\n",
    "    return image_features\n",
    "\n",
    "def get_text_features(clip_model, texts):\n",
    "    num_text_layer = clip_model.transformer.layers\n",
    "    texts = texts.to(device)\n",
    "\n",
    "    out_list = []\n",
    "    x = clip_model.token_embedding(texts).type(clip_model.dtype)  # [batch_size, n_ctx, d_clip_model]\n",
    "    x = x + clip_model.positional_embedding.type(clip_model.dtype)\n",
    "    x = x.permute(1, 0, 2)                  # NLD -> LND\n",
    "\n",
    "    for i in range(num_text_layer):\n",
    "        x = clip_model.transformer.resblocks[i](x)\n",
    "        tmp = x.permute(1, 0, 2).detach()   # LND -> NLD\n",
    "        out_list.append(tmp)\n",
    "\n",
    "    text_features = torch.stack(out_list)\n",
    "\n",
    "    return text_features"
   ]
  },
  {
   "cell_type": "code",
   "execution_count": 4,
   "metadata": {},
   "outputs": [],
   "source": [
    "def get_image_features_and_labels(data_loader):\n",
    "    image_features_list = []\n",
    "    labels_list = []\n",
    "\n",
    "    for i, data in enumerate(data_loader):\n",
    "        images = data['images']\n",
    "        labels = torch.squeeze(data['labels'])\n",
    "\n",
    "        images = images.to(device)\n",
    "        labels = labels.to(device)\n",
    "\n",
    "        image_features = get_image_features(clip_model, images)\n",
    "        \n",
    "        labels_list.append(labels)\n",
    "        image_features_list.append(image_features)\n",
    "    \n",
    "    return image_features_list, labels_list"
   ]
  },
  {
   "cell_type": "code",
   "execution_count": 5,
   "metadata": {},
   "outputs": [],
   "source": [
    "batch_size = 32\n",
    "tform = transforms.Compose([\n",
    "    # transforms.RandomRotation(20), # Image augmentation\n",
    "    transforms.ToTensor(), # Must convert to pytorch tensor for subsequent operations to run\n",
    "    transforms.Normalize([0.5], [0.5]),\n",
    "])\n",
    "\n",
    "train_loader = ds_train.pytorch(num_workers = 0, shuffle = True, \n",
    "                                transform = {'images': tform, 'labels': None}, \n",
    "                                batch_size = batch_size, decode_method = {'images': 'pil'})\n",
    "test_loader = ds_test.pytorch(num_workers = 0, transform = {'images': tform, 'labels': None}, \n",
    "                                batch_size = batch_size, decode_method = {'images': 'pil'})"
   ]
  },
  {
   "cell_type": "code",
   "execution_count": null,
   "metadata": {},
   "outputs": [],
   "source": [
    "train_image_features_list, train_labels_list = get_image_features_and_labels(train_loader)\n",
    "test_image_features_list, test_labels_list = get_image_features_and_labels(test_loader)"
   ]
  },
  {
   "cell_type": "code",
   "execution_count": null,
   "metadata": {},
   "outputs": [],
   "source": [
    "import pickle\n",
    "\n",
    "## save pickle\n",
    "with open('train_image_features_list.pickle', 'wb') as fw: \n",
    "    pickle.dump(train_image_features_list, fw)\n",
    "with open('train_labels_list.pickle', 'wb') as fw:\n",
    "    pickle.dump(train_labels_list, fw)\n",
    "with open('test_image_features_list.pickle', 'wb') as fw:\n",
    "    pickle.dump(test_image_features_list, fw)\n",
    "with open('test_labels_list.pickle', 'wb') as fw:\n",
    "    pickle.dump(test_labels_list, fw)"
   ]
  },
  {
   "cell_type": "code",
   "execution_count": 6,
   "metadata": {},
   "outputs": [],
   "source": [
    "import pickle\n",
    "\n",
    "def save_images(data_loader, split=1, type='train'):\n",
    "    images_list = []\n",
    "    labels_list = []\n",
    "    save_idx = 0\n",
    "    size = int(len(data_loader)/split)\n",
    "\n",
    "    for i, data in enumerate(data_loader):\n",
    "        images = data['images']\n",
    "        images = images.to(device)\n",
    "\n",
    "        labels = torch.squeeze(data['labels'])\n",
    "        labels = labels.to(device)\n",
    "        \n",
    "        images_list.append(images)\n",
    "        labels_list.append(labels)\n",
    "        \n",
    "        if (i+1) % size == 0:\n",
    "            with open(f'{type}_images_list{save_idx}.pickle', 'wb') as fw: \n",
    "                pickle.dump(images_list, fw)\n",
    "            images_list = []\n",
    "            save_idx += 1\n",
    "\n",
    "    with open(f'{type}_images_list{save_idx}.pickle', 'wb') as fw: \n",
    "        pickle.dump(images_list, fw)\n",
    "    \n",
    "    return labels_list\n",
    "\n",
    "def load_images_list(type='train', i=0):\n",
    "    with open(f'{type}_images_list{i}.pickle', 'rb') as fr: \n",
    "        images_list = pickle.load(fr)\n",
    "    return images_list"
   ]
  },
  {
   "cell_type": "code",
   "execution_count": 8,
   "metadata": {},
   "outputs": [],
   "source": [
    "train_labels_list = save_images(train_loader, type=\"train\", split=3)\n",
    "\n",
    "with open('train_labels_list0.pickle', 'wb') as fw:\n",
    "    pickle.dump(train_labels_list, fw)"
   ]
  },
  {
   "cell_type": "code",
   "execution_count": 7,
   "metadata": {},
   "outputs": [],
   "source": [
    "test_labels_list = save_images(test_loader, type=\"test\", split=3)\n",
    "\n",
    "with open('test_labels_list0.pickle', 'wb') as fw:\n",
    "    pickle.dump(test_labels_list, fw)"
   ]
  },
  {
   "cell_type": "code",
   "execution_count": 9,
   "metadata": {},
   "outputs": [
    {
     "name": "stdout",
     "output_type": "stream",
     "text": [
      "['An image of a dog', 'An image of an elephant', 'An image of a giraffe', 'An image of a guitar', 'An image of a horse', 'An image of a house', 'An image of a person']\n"
     ]
    }
   ],
   "source": [
    "pacs_class = [\n",
    "    'a dog', 'an elephant', 'a giraffe', 'a guitar', 'a horse', 'a house', 'a person'\n",
    "]\n",
    "\n",
    "def prompt(idx):\n",
    "    return f\"An image of {pacs_class[idx]}\"\n",
    "\n",
    "prompts = [prompt(x) for x in range(7)]\n",
    "print(prompts)"
   ]
  },
  {
   "cell_type": "code",
   "execution_count": 11,
   "metadata": {},
   "outputs": [],
   "source": [
    "class_tokens = clip.tokenize([prompt(x) for x in range(7)]).to(device)\n",
    "with open('class_tokens.pickle', 'wb') as fw:\n",
    "    pickle.dump(class_tokens, fw)"
   ]
  },
  {
   "cell_type": "code",
   "execution_count": 10,
   "metadata": {},
   "outputs": [],
   "source": [
    "class_features = get_text_features(clip_model, class_tokens)\n",
    "with open('class_features.pickle', 'wb') as fw:\n",
    "    pickle.dump(class_features, fw)"
   ]
  }
 ],
 "metadata": {
  "kernelspec": {
   "display_name": "dev",
   "language": "python",
   "name": "python3"
  },
  "language_info": {
   "codemirror_mode": {
    "name": "ipython",
    "version": 3
   },
   "file_extension": ".py",
   "mimetype": "text/x-python",
   "name": "python",
   "nbconvert_exporter": "python",
   "pygments_lexer": "ipython3",
   "version": "3.9.15"
  },
  "orig_nbformat": 4
 },
 "nbformat": 4,
 "nbformat_minor": 2
}
