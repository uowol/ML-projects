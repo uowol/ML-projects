{
 "cells": [
  {
   "attachments": {},
   "cell_type": "markdown",
   "metadata": {},
   "source": [
    "# Modeling\n",
    "\n",
    "## 0. Load-data, Data-preprocessing, Remove-outlier"
   ]
  },
  {
   "cell_type": "code",
   "execution_count": 624,
   "metadata": {},
   "outputs": [],
   "source": [
    "import pandas as pd\n",
    "\n",
    "train_raw = pd.read_csv(\"data/train.csv\")\n",
    "test_raw = pd.read_csv(\"data/test.csv\")\n",
    "submission_raw = pd.read_csv(\"data/submission.csv\")\n",
    "\n",
    "train = train_raw.copy()\n",
    "test = test_raw.copy()\n",
    "submission = submission_raw.copy()"
   ]
  },
  {
   "cell_type": "code",
   "execution_count": 125,
   "metadata": {},
   "outputs": [],
   "source": [
    "# 결측치 채우기, 시계열 데이터일 것이라고 추측하므로 이전 값을 사용하였음\n",
    "train = train.fillna(method=\"ffill\")\n",
    "# train = train.fillna(0)"
   ]
  },
  {
   "cell_type": "code",
   "execution_count": 126,
   "metadata": {},
   "outputs": [],
   "source": [
    "# 단위 조정\n",
    "train['hour_bef_visibility'] = train['hour_bef_visibility']/10\n",
    "train['hour_bef_ozone'] = train['hour_bef_ozone']*10"
   ]
  },
  {
   "cell_type": "code",
   "execution_count": 154,
   "metadata": {},
   "outputs": [
    {
     "name": "stdout",
     "output_type": "stream",
     "text": [
      "X_train.shape : (1313, 7)\n",
      "y_train.shape : (1313,)\n",
      "X_valid.shape : (146, 7)\n",
      "y_valid.shape : (146,)\n",
      "features : ['hour', 'hour_bef_temperature', 'hour_bef_windspeed', 'hour_bef_humidity', 'hour_bef_visibility', 'hour_bef_ozone', 'hour_bef_pm10']\n"
     ]
    }
   ],
   "source": [
    "from sklearn.model_selection import train_test_split\n",
    "\n",
    "# data allocate, id 값과 편향된 값을 가진 변수, 그리고 집단 간의 두드러진 차이가 나타나지 않은 변수는 제거하였다.\n",
    "X = train.drop(['id', 'count', 'hour_bef_precipitation', 'hour_bef_pm2.5'], axis=1)\n",
    "y = train['count']\n",
    "features = X.columns\n",
    "\n",
    "# train -> train/validation\n",
    "X_train, X_valid, y_train, y_valid = train_test_split(X,y, test_size=0.1, shuffle=False)\n",
    "\n",
    "print(f\"X_train.shape : {X_train.shape}\")\n",
    "print(f\"y_train.shape : {y_train.shape}\")\n",
    "print(f\"X_valid.shape : {X_valid.shape}\")\n",
    "print(f\"y_valid.shape : {y_valid.shape}\")\n",
    "print(\"features :\", features.tolist())"
   ]
  },
  {
   "attachments": {},
   "cell_type": "markdown",
   "metadata": {},
   "source": [
    "## 1. Linear Regression"
   ]
  },
  {
   "cell_type": "code",
   "execution_count": 208,
   "metadata": {},
   "outputs": [],
   "source": [
    "from sklearn.linear_model import LinearRegression\n",
    "import statsmodels.api as sm\n",
    "lr = LinearRegression()"
   ]
  },
  {
   "cell_type": "code",
   "execution_count": 209,
   "metadata": {},
   "outputs": [
    {
     "name": "stdout",
     "output_type": "stream",
     "text": [
      "[ 4.64985357  5.34153624  3.57860762 -0.44656622  0.05421251 27.42259427\n",
      " -0.27554177]\n",
      "-21.78607254662566\n"
     ]
    }
   ],
   "source": [
    "lr.fit(X_train, y_train)\n",
    "print(lr.coef_)\n",
    "print(lr.intercept_)"
   ]
  },
  {
   "cell_type": "code",
   "execution_count": 157,
   "metadata": {},
   "outputs": [
    {
     "data": {
      "text/plain": [
       "['hour',\n",
       " 'hour_bef_temperature',\n",
       " 'hour_bef_windspeed',\n",
       " 'hour_bef_visibility',\n",
       " 'hour_bef_ozone']"
      ]
     },
     "execution_count": 157,
     "metadata": {},
     "output_type": "execute_result"
    }
   ],
   "source": [
    "# 양의 계수를 갖는 변수들\n",
    "X.columns[lr.coef_>0].tolist()"
   ]
  },
  {
   "cell_type": "code",
   "execution_count": 158,
   "metadata": {},
   "outputs": [
    {
     "data": {
      "text/plain": [
       "['hour_bef_humidity', 'hour_bef_pm10']"
      ]
     },
     "execution_count": 158,
     "metadata": {},
     "output_type": "execute_result"
    }
   ],
   "source": [
    "# 음의 계수를 갖는 변수들\n",
    "X.columns[lr.coef_<0].tolist()"
   ]
  },
  {
   "attachments": {},
   "cell_type": "markdown",
   "metadata": {},
   "source": [
    "### RMSE"
   ]
  },
  {
   "cell_type": "code",
   "execution_count": 210,
   "metadata": {},
   "outputs": [
    {
     "data": {
      "text/plain": [
       "44.04674449338443"
      ]
     },
     "execution_count": 210,
     "metadata": {},
     "output_type": "execute_result"
    }
   ],
   "source": [
    "from sklearn.metrics import mean_squared_error\n",
    "\n",
    "y_pred = lr.predict(X_valid)\n",
    "RMSE = mean_squared_error(y_valid, y_pred, squared=False)\n",
    "RMSE"
   ]
  },
  {
   "cell_type": "code",
   "execution_count": 227,
   "metadata": {},
   "outputs": [
    {
     "data": {
      "text/html": [
       "<table class=\"simpletable\">\n",
       "<caption>OLS Regression Results</caption>\n",
       "<tr>\n",
       "  <th>Dep. Variable:</th>          <td>count</td>      <th>  R-squared:         </th> <td>   0.579</td> \n",
       "</tr>\n",
       "<tr>\n",
       "  <th>Model:</th>                   <td>OLS</td>       <th>  Adj. R-squared:    </th> <td>   0.577</td> \n",
       "</tr>\n",
       "<tr>\n",
       "  <th>Method:</th>             <td>Least Squares</td>  <th>  F-statistic:       </th> <td>   256.7</td> \n",
       "</tr>\n",
       "<tr>\n",
       "  <th>Date:</th>             <td>Mon, 13 Feb 2023</td> <th>  Prob (F-statistic):</th> <td>3.98e-240</td>\n",
       "</tr>\n",
       "<tr>\n",
       "  <th>Time:</th>                 <td>20:52:58</td>     <th>  Log-Likelihood:    </th> <td> -7100.6</td> \n",
       "</tr>\n",
       "<tr>\n",
       "  <th>No. Observations:</th>      <td>  1313</td>      <th>  AIC:               </th> <td>1.422e+04</td>\n",
       "</tr>\n",
       "<tr>\n",
       "  <th>Df Residuals:</th>          <td>  1305</td>      <th>  BIC:               </th> <td>1.426e+04</td>\n",
       "</tr>\n",
       "<tr>\n",
       "  <th>Df Model:</th>              <td>     7</td>      <th>                     </th>     <td> </td>    \n",
       "</tr>\n",
       "<tr>\n",
       "  <th>Covariance Type:</th>      <td>nonrobust</td>    <th>                     </th>     <td> </td>    \n",
       "</tr>\n",
       "</table>\n",
       "<table class=\"simpletable\">\n",
       "<tr>\n",
       "            <td></td>              <th>coef</th>     <th>std err</th>      <th>t</th>      <th>P>|t|</th>  <th>[0.025</th>    <th>0.975]</th>  \n",
       "</tr>\n",
       "<tr>\n",
       "  <th>const</th>                <td>  -21.7861</td> <td>   16.268</td> <td>   -1.339</td> <td> 0.181</td> <td>  -53.701</td> <td>   10.129</td>\n",
       "</tr>\n",
       "<tr>\n",
       "  <th>hour</th>                 <td>    4.6499</td> <td>    0.257</td> <td>   18.098</td> <td> 0.000</td> <td>    4.146</td> <td>    5.154</td>\n",
       "</tr>\n",
       "<tr>\n",
       "  <th>hour_bef_temperature</th> <td>    5.3415</td> <td>    0.375</td> <td>   14.233</td> <td> 0.000</td> <td>    4.605</td> <td>    6.078</td>\n",
       "</tr>\n",
       "<tr>\n",
       "  <th>hour_bef_windspeed</th>   <td>    3.5786</td> <td>    1.377</td> <td>    2.599</td> <td> 0.009</td> <td>    0.877</td> <td>    6.280</td>\n",
       "</tr>\n",
       "<tr>\n",
       "  <th>hour_bef_humidity</th>    <td>   -0.4466</td> <td>    0.121</td> <td>   -3.693</td> <td> 0.000</td> <td>   -0.684</td> <td>   -0.209</td>\n",
       "</tr>\n",
       "<tr>\n",
       "  <th>hour_bef_visibility</th>  <td>    0.0542</td> <td>    0.039</td> <td>    1.391</td> <td> 0.164</td> <td>   -0.022</td> <td>    0.131</td>\n",
       "</tr>\n",
       "<tr>\n",
       "  <th>hour_bef_ozone</th>       <td>   27.4226</td> <td>    9.810</td> <td>    2.796</td> <td> 0.005</td> <td>    8.178</td> <td>   46.667</td>\n",
       "</tr>\n",
       "<tr>\n",
       "  <th>hour_bef_pm10</th>        <td>   -0.2755</td> <td>    0.057</td> <td>   -4.871</td> <td> 0.000</td> <td>   -0.387</td> <td>   -0.165</td>\n",
       "</tr>\n",
       "</table>\n",
       "<table class=\"simpletable\">\n",
       "<tr>\n",
       "  <th>Omnibus:</th>       <td>152.964</td> <th>  Durbin-Watson:     </th> <td>   1.970</td>\n",
       "</tr>\n",
       "<tr>\n",
       "  <th>Prob(Omnibus):</th> <td> 0.000</td>  <th>  Jarque-Bera (JB):  </th> <td> 237.636</td>\n",
       "</tr>\n",
       "<tr>\n",
       "  <th>Skew:</th>          <td> 0.815</td>  <th>  Prob(JB):          </th> <td>2.50e-52</td>\n",
       "</tr>\n",
       "<tr>\n",
       "  <th>Kurtosis:</th>      <td> 4.298</td>  <th>  Cond. No.          </th> <td>1.83e+03</td>\n",
       "</tr>\n",
       "</table><br/><br/>Notes:<br/>[1] Standard Errors assume that the covariance matrix of the errors is correctly specified.<br/>[2] The condition number is large, 1.83e+03. This might indicate that there are<br/>strong multicollinearity or other numerical problems."
      ],
      "text/plain": [
       "<class 'statsmodels.iolib.summary.Summary'>\n",
       "\"\"\"\n",
       "                            OLS Regression Results                            \n",
       "==============================================================================\n",
       "Dep. Variable:                  count   R-squared:                       0.579\n",
       "Model:                            OLS   Adj. R-squared:                  0.577\n",
       "Method:                 Least Squares   F-statistic:                     256.7\n",
       "Date:                Mon, 13 Feb 2023   Prob (F-statistic):          3.98e-240\n",
       "Time:                        20:52:58   Log-Likelihood:                -7100.6\n",
       "No. Observations:                1313   AIC:                         1.422e+04\n",
       "Df Residuals:                    1305   BIC:                         1.426e+04\n",
       "Df Model:                           7                                         \n",
       "Covariance Type:            nonrobust                                         \n",
       "========================================================================================\n",
       "                           coef    std err          t      P>|t|      [0.025      0.975]\n",
       "----------------------------------------------------------------------------------------\n",
       "const                  -21.7861     16.268     -1.339      0.181     -53.701      10.129\n",
       "hour                     4.6499      0.257     18.098      0.000       4.146       5.154\n",
       "hour_bef_temperature     5.3415      0.375     14.233      0.000       4.605       6.078\n",
       "hour_bef_windspeed       3.5786      1.377      2.599      0.009       0.877       6.280\n",
       "hour_bef_humidity       -0.4466      0.121     -3.693      0.000      -0.684      -0.209\n",
       "hour_bef_visibility      0.0542      0.039      1.391      0.164      -0.022       0.131\n",
       "hour_bef_ozone          27.4226      9.810      2.796      0.005       8.178      46.667\n",
       "hour_bef_pm10           -0.2755      0.057     -4.871      0.000      -0.387      -0.165\n",
       "==============================================================================\n",
       "Omnibus:                      152.964   Durbin-Watson:                   1.970\n",
       "Prob(Omnibus):                  0.000   Jarque-Bera (JB):              237.636\n",
       "Skew:                           0.815   Prob(JB):                     2.50e-52\n",
       "Kurtosis:                       4.298   Cond. No.                     1.83e+03\n",
       "==============================================================================\n",
       "\n",
       "Notes:\n",
       "[1] Standard Errors assume that the covariance matrix of the errors is correctly specified.\n",
       "[2] The condition number is large, 1.83e+03. This might indicate that there are\n",
       "strong multicollinearity or other numerical problems.\n",
       "\"\"\""
      ]
     },
     "execution_count": 227,
     "metadata": {},
     "output_type": "execute_result"
    }
   ],
   "source": [
    "# 더 자세한 분석을 위해 ols 방식의 회귀 모델을 적합\n",
    "results = sm.OLS(y_train, sm.add_constant(X_train)).fit()\n",
    "results.summary()"
   ]
  },
  {
   "attachments": {},
   "cell_type": "markdown",
   "metadata": {},
   "source": [
    "- Prob (F-statistic):\t3.98e-240\n",
    "    - 통계적으로 유의미한 모델로 보인다.\n",
    "- 각각의 t-test\n",
    "    - bias와 가시성에 대한 p-value가 0.05보다 크게 나타난다. \n",
    "- R-squared:            0.579\n",
    "    - 학습 데이터의 약 58%가 회귀 모형에 의해 설명된다.\n",
    "- Durbin-Watson:        1.970\n",
    "    - 2에 가까운 값이 나타나므로 데이터에 자기상관성이 드러나지 않음."
   ]
  },
  {
   "cell_type": "code",
   "execution_count": 228,
   "metadata": {},
   "outputs": [
    {
     "data": {
      "text/plain": [
       "44.046744493384416"
      ]
     },
     "execution_count": 228,
     "metadata": {},
     "output_type": "execute_result"
    }
   ],
   "source": [
    "# RMSE\n",
    "y_pred = results.predict(sm.add_constant(X_valid))\n",
    "RMSE = mean_squared_error(y_valid, y_pred, squared=False)\n",
    "RMSE"
   ]
  },
  {
   "attachments": {},
   "cell_type": "markdown",
   "metadata": {},
   "source": [
    "### Check Multicollinearity by VIF"
   ]
  },
  {
   "cell_type": "code",
   "execution_count": 238,
   "metadata": {},
   "outputs": [
    {
     "name": "stdout",
     "output_type": "stream",
     "text": [
      "   VIF_Factor               Feature\n",
      "0    5.282181                  hour\n",
      "1   14.683067  hour_bef_temperature\n",
      "2    6.724061    hour_bef_windspeed\n",
      "3    3.789334     hour_bef_humidity\n",
      "4    6.131442   hour_bef_visibility\n",
      "5    8.049116        hour_bef_ozone\n",
      "6    3.858840         hour_bef_pm10\n"
     ]
    }
   ],
   "source": [
    "import pandas as pd\n",
    "import statsmodels.api as sm\n",
    "from statsmodels.stats.outliers_influence import variance_inflation_factor\n",
    "  \n",
    "def feature_engineering_XbyVIF(X_train):\n",
    "    vif = pd.DataFrame()\n",
    "    vif['VIF_Factor'] = [variance_inflation_factor(X_train.values, i)\n",
    "                         for i in range(X_train.shape[1])]\n",
    "    vif['Feature'] = X_train.columns\n",
    "    return vif\n",
    "\n",
    "vif = feature_engineering_XbyVIF(X_train)\n",
    "print(vif)"
   ]
  },
  {
   "cell_type": "code",
   "execution_count": 203,
   "metadata": {},
   "outputs": [
    {
     "name": "stdout",
     "output_type": "stream",
     "text": [
      "   VIF_Factor              Feature\n",
      "0    4.873365                 hour\n",
      "1    6.685528   hour_bef_windspeed\n",
      "2    3.565704    hour_bef_humidity\n",
      "3    4.971097  hour_bef_visibility\n",
      "4    6.577384       hour_bef_ozone\n",
      "5    3.688209        hour_bef_pm10\n"
     ]
    }
   ],
   "source": [
    "vif = feature_engineering_XbyVIF(X_train.drop(['hour_bef_temperature'], axis=1))\n",
    "print(vif)"
   ]
  },
  {
   "attachments": {},
   "cell_type": "markdown",
   "metadata": {},
   "source": [
    "- 기온에 대한 VIF값이 10을 넘기 때문에 다중공선성이 있다고 볼 수 있다. 기온 변수를 제외한 결과 가시성과 오존에 대한 VIF값이 떨어진 것으로 보아 두 변수와의 상관관계가 있는 것으로 보인다.\n",
    "- 앞선 EDA의 결과 가시성과 오존보다 기온에 따른 대여 횟수의 차이가 두드러지게 드러났으므로 오존과 기온 변수를 제외하고 회귀모형을 적합해보았다."
   ]
  },
  {
   "cell_type": "code",
   "execution_count": 236,
   "metadata": {},
   "outputs": [
    {
     "name": "stdout",
     "output_type": "stream",
     "text": [
      "   VIF_Factor               Feature\n",
      "0    5.255889                  hour\n",
      "1    9.336676  hour_bef_temperature\n",
      "2    5.706223    hour_bef_windspeed\n",
      "3    3.708210     hour_bef_humidity\n",
      "4    3.710307         hour_bef_pm10\n"
     ]
    }
   ],
   "source": [
    "vif = feature_engineering_XbyVIF(X_train.drop(['hour_bef_ozone', 'hour_bef_visibility'], axis=1))\n",
    "print(vif)"
   ]
  },
  {
   "cell_type": "code",
   "execution_count": 240,
   "metadata": {},
   "outputs": [
    {
     "data": {
      "text/html": [
       "<table class=\"simpletable\">\n",
       "<caption>OLS Regression Results</caption>\n",
       "<tr>\n",
       "  <th>Dep. Variable:</th>          <td>count</td>      <th>  R-squared:         </th> <td>   0.576</td> \n",
       "</tr>\n",
       "<tr>\n",
       "  <th>Model:</th>                   <td>OLS</td>       <th>  Adj. R-squared:    </th> <td>   0.575</td> \n",
       "</tr>\n",
       "<tr>\n",
       "  <th>Method:</th>             <td>Least Squares</td>  <th>  F-statistic:       </th> <td>   355.6</td> \n",
       "</tr>\n",
       "<tr>\n",
       "  <th>Date:</th>             <td>Mon, 13 Feb 2023</td> <th>  Prob (F-statistic):</th> <td>9.83e-241</td>\n",
       "</tr>\n",
       "<tr>\n",
       "  <th>Time:</th>                 <td>20:56:34</td>     <th>  Log-Likelihood:    </th> <td> -7105.1</td> \n",
       "</tr>\n",
       "<tr>\n",
       "  <th>No. Observations:</th>      <td>  1313</td>      <th>  AIC:               </th> <td>1.422e+04</td>\n",
       "</tr>\n",
       "<tr>\n",
       "  <th>Df Residuals:</th>          <td>  1307</td>      <th>  BIC:               </th> <td>1.425e+04</td>\n",
       "</tr>\n",
       "<tr>\n",
       "  <th>Df Model:</th>              <td>     5</td>      <th>                     </th>     <td> </td>    \n",
       "</tr>\n",
       "<tr>\n",
       "  <th>Covariance Type:</th>      <td>nonrobust</td>    <th>                     </th>     <td> </td>    \n",
       "</tr>\n",
       "</table>\n",
       "<table class=\"simpletable\">\n",
       "<tr>\n",
       "            <td></td>              <th>coef</th>     <th>std err</th>      <th>t</th>      <th>P>|t|</th>  <th>[0.025</th>    <th>0.975]</th>  \n",
       "</tr>\n",
       "<tr>\n",
       "  <th>const</th>                <td>   -2.5100</td> <td>   10.180</td> <td>   -0.247</td> <td> 0.805</td> <td>  -22.481</td> <td>   17.461</td>\n",
       "</tr>\n",
       "<tr>\n",
       "  <th>hour</th>                 <td>    4.6752</td> <td>    0.257</td> <td>   18.166</td> <td> 0.000</td> <td>    4.170</td> <td>    5.180</td>\n",
       "</tr>\n",
       "<tr>\n",
       "  <th>hour_bef_temperature</th> <td>    5.5923</td> <td>    0.351</td> <td>   15.922</td> <td> 0.000</td> <td>    4.903</td> <td>    6.281</td>\n",
       "</tr>\n",
       "<tr>\n",
       "  <th>hour_bef_windspeed</th>   <td>    4.7516</td> <td>    1.317</td> <td>    3.609</td> <td> 0.000</td> <td>    2.168</td> <td>    7.335</td>\n",
       "</tr>\n",
       "<tr>\n",
       "  <th>hour_bef_humidity</th>    <td>   -0.5733</td> <td>    0.090</td> <td>   -6.359</td> <td> 0.000</td> <td>   -0.750</td> <td>   -0.396</td>\n",
       "</tr>\n",
       "<tr>\n",
       "  <th>hour_bef_pm10</th>        <td>   -0.3051</td> <td>    0.047</td> <td>   -6.466</td> <td> 0.000</td> <td>   -0.398</td> <td>   -0.213</td>\n",
       "</tr>\n",
       "</table>\n",
       "<table class=\"simpletable\">\n",
       "<tr>\n",
       "  <th>Omnibus:</th>       <td>146.580</td> <th>  Durbin-Watson:     </th> <td>   1.962</td>\n",
       "</tr>\n",
       "<tr>\n",
       "  <th>Prob(Omnibus):</th> <td> 0.000</td>  <th>  Jarque-Bera (JB):  </th> <td> 221.866</td>\n",
       "</tr>\n",
       "<tr>\n",
       "  <th>Skew:</th>          <td> 0.799</td>  <th>  Prob(JB):          </th> <td>6.64e-49</td>\n",
       "</tr>\n",
       "<tr>\n",
       "  <th>Kurtosis:</th>      <td> 4.225</td>  <th>  Cond. No.          </th> <td>    573.</td>\n",
       "</tr>\n",
       "</table><br/><br/>Notes:<br/>[1] Standard Errors assume that the covariance matrix of the errors is correctly specified."
      ],
      "text/plain": [
       "<class 'statsmodels.iolib.summary.Summary'>\n",
       "\"\"\"\n",
       "                            OLS Regression Results                            \n",
       "==============================================================================\n",
       "Dep. Variable:                  count   R-squared:                       0.576\n",
       "Model:                            OLS   Adj. R-squared:                  0.575\n",
       "Method:                 Least Squares   F-statistic:                     355.6\n",
       "Date:                Mon, 13 Feb 2023   Prob (F-statistic):          9.83e-241\n",
       "Time:                        20:56:34   Log-Likelihood:                -7105.1\n",
       "No. Observations:                1313   AIC:                         1.422e+04\n",
       "Df Residuals:                    1307   BIC:                         1.425e+04\n",
       "Df Model:                           5                                         \n",
       "Covariance Type:            nonrobust                                         \n",
       "========================================================================================\n",
       "                           coef    std err          t      P>|t|      [0.025      0.975]\n",
       "----------------------------------------------------------------------------------------\n",
       "const                   -2.5100     10.180     -0.247      0.805     -22.481      17.461\n",
       "hour                     4.6752      0.257     18.166      0.000       4.170       5.180\n",
       "hour_bef_temperature     5.5923      0.351     15.922      0.000       4.903       6.281\n",
       "hour_bef_windspeed       4.7516      1.317      3.609      0.000       2.168       7.335\n",
       "hour_bef_humidity       -0.5733      0.090     -6.359      0.000      -0.750      -0.396\n",
       "hour_bef_pm10           -0.3051      0.047     -6.466      0.000      -0.398      -0.213\n",
       "==============================================================================\n",
       "Omnibus:                      146.580   Durbin-Watson:                   1.962\n",
       "Prob(Omnibus):                  0.000   Jarque-Bera (JB):              221.866\n",
       "Skew:                           0.799   Prob(JB):                     6.64e-49\n",
       "Kurtosis:                       4.225   Cond. No.                         573.\n",
       "==============================================================================\n",
       "\n",
       "Notes:\n",
       "[1] Standard Errors assume that the covariance matrix of the errors is correctly specified.\n",
       "\"\"\""
      ]
     },
     "execution_count": 240,
     "metadata": {},
     "output_type": "execute_result"
    }
   ],
   "source": [
    "results = sm.OLS(y_train, sm.add_constant(X_train.drop(['hour_bef_ozone', 'hour_bef_visibility'], axis=1))).fit()\n",
    "results.summary()"
   ]
  },
  {
   "attachments": {},
   "cell_type": "markdown",
   "metadata": {},
   "source": [
    "- Prob (F-statistic):\t9.83e-241\n",
    "    - 통계적으로 유의미한 모델로 보인다.\n",
    "- 각각의 t-test\n",
    "    - bias에 대한 p-value가 0.05보다 크게 나타난다. \n",
    "- R-squared:            0.576\n",
    "    - 학습 데이터의 약 58%가 회귀 모형에 의해 설명된다.\n",
    "- Durbin-Watson:        1.962\n",
    "    - 2에 가까운 값이 나타나므로 데이터에 자기상관성이 드러나지 않는다."
   ]
  },
  {
   "cell_type": "code",
   "execution_count": 234,
   "metadata": {},
   "outputs": [
    {
     "data": {
      "text/plain": [
       "44.856464735620946"
      ]
     },
     "execution_count": 234,
     "metadata": {},
     "output_type": "execute_result"
    }
   ],
   "source": [
    "# RMSE\n",
    "y_pred = results.predict(sm.add_constant(X_valid.drop(['hour_bef_ozone', 'hour_bef_visibility'], axis=1)))\n",
    "RMSE = mean_squared_error(y_valid, y_pred, squared=False)\n",
    "RMSE"
   ]
  },
  {
   "attachments": {},
   "cell_type": "markdown",
   "metadata": {},
   "source": [
    "## Polynomial Regression"
   ]
  },
  {
   "cell_type": "code",
   "execution_count": 136,
   "metadata": {},
   "outputs": [
    {
     "data": {
      "text/plain": [
       "<matplotlib.collections.PathCollection at 0x1d5defd7130>"
      ]
     },
     "execution_count": 136,
     "metadata": {},
     "output_type": "execute_result"
    },
    {
     "data": {
      "image/png": "[encoded data removed]",
      "text/plain": [
       "<Figure size 640x480 with 1 Axes>"
      ]
     },
     "metadata": {},
     "output_type": "display_data"
    }
   ],
   "source": [
    "import matplotlib.pyplot as plt\n",
    "\n",
    "plt.scatter(X_train['hour'], y_train)"
   ]
  },
  {
   "cell_type": "code",
   "execution_count": 243,
   "metadata": {},
   "outputs": [],
   "source": [
    "import numpy as np\n",
    "\n",
    "X_train2 = X_train.drop(['hour_bef_ozone', 'hour_bef_visibility'], axis=1).copy()\n",
    "X_train2['hour_sq'] = np.power(X_train['hour'], 2)\n",
    "X_train2['hour_qd'] = np.power(X_train['hour'], 3)\n",
    "X_valid2 = X_valid.drop(['hour_bef_ozone', 'hour_bef_visibility'], axis=1).copy()\n",
    "X_valid2['hour_sq'] = np.power(X_valid['hour'], 2)\n",
    "X_valid2['hour_qd'] = np.power(X_valid['hour'], 3)\n"
   ]
  },
  {
   "cell_type": "code",
   "execution_count": 241,
   "metadata": {},
   "outputs": [
    {
     "data": {
      "text/html": [
       "<table class=\"simpletable\">\n",
       "<caption>OLS Regression Results</caption>\n",
       "<tr>\n",
       "  <th>Dep. Variable:</th>          <td>count</td>      <th>  R-squared:         </th> <td>   0.602</td> \n",
       "</tr>\n",
       "<tr>\n",
       "  <th>Model:</th>                   <td>OLS</td>       <th>  Adj. R-squared:    </th> <td>   0.599</td> \n",
       "</tr>\n",
       "<tr>\n",
       "  <th>Method:</th>             <td>Least Squares</td>  <th>  F-statistic:       </th> <td>   281.5</td> \n",
       "</tr>\n",
       "<tr>\n",
       "  <th>Date:</th>             <td>Mon, 13 Feb 2023</td> <th>  Prob (F-statistic):</th> <td>1.54e-255</td>\n",
       "</tr>\n",
       "<tr>\n",
       "  <th>Time:</th>                 <td>20:57:17</td>     <th>  Log-Likelihood:    </th> <td> -7064.8</td> \n",
       "</tr>\n",
       "<tr>\n",
       "  <th>No. Observations:</th>      <td>  1313</td>      <th>  AIC:               </th> <td>1.415e+04</td>\n",
       "</tr>\n",
       "<tr>\n",
       "  <th>Df Residuals:</th>          <td>  1305</td>      <th>  BIC:               </th> <td>1.419e+04</td>\n",
       "</tr>\n",
       "<tr>\n",
       "  <th>Df Model:</th>              <td>     7</td>      <th>                     </th>     <td> </td>    \n",
       "</tr>\n",
       "<tr>\n",
       "  <th>Covariance Type:</th>      <td>nonrobust</td>    <th>                     </th>     <td> </td>    \n",
       "</tr>\n",
       "</table>\n",
       "<table class=\"simpletable\">\n",
       "<tr>\n",
       "            <td></td>              <th>coef</th>     <th>std err</th>      <th>t</th>      <th>P>|t|</th>  <th>[0.025</th>    <th>0.975]</th>  \n",
       "</tr>\n",
       "<tr>\n",
       "  <th>const</th>                <td>   47.7016</td> <td>   11.558</td> <td>    4.127</td> <td> 0.000</td> <td>   25.027</td> <td>   70.376</td>\n",
       "</tr>\n",
       "<tr>\n",
       "  <th>hour</th>                 <td>  -13.5440</td> <td>    2.166</td> <td>   -6.252</td> <td> 0.000</td> <td>  -17.794</td> <td>   -9.294</td>\n",
       "</tr>\n",
       "<tr>\n",
       "  <th>hour_bef_temperature</th> <td>    4.3060</td> <td>    0.374</td> <td>   11.512</td> <td> 0.000</td> <td>    3.572</td> <td>    5.040</td>\n",
       "</tr>\n",
       "<tr>\n",
       "  <th>hour_bef_windspeed</th>   <td>   -0.6506</td> <td>    1.417</td> <td>   -0.459</td> <td> 0.646</td> <td>   -3.431</td> <td>    2.129</td>\n",
       "</tr>\n",
       "<tr>\n",
       "  <th>hour_bef_humidity</th>    <td>   -0.5032</td> <td>    0.088</td> <td>   -5.710</td> <td> 0.000</td> <td>   -0.676</td> <td>   -0.330</td>\n",
       "</tr>\n",
       "<tr>\n",
       "  <th>hour_bef_pm10</th>        <td>   -0.2957</td> <td>    0.046</td> <td>   -6.454</td> <td> 0.000</td> <td>   -0.386</td> <td>   -0.206</td>\n",
       "</tr>\n",
       "<tr>\n",
       "  <th>hour_sq</th>              <td>    2.2127</td> <td>    0.245</td> <td>    9.037</td> <td> 0.000</td> <td>    1.732</td> <td>    2.693</td>\n",
       "</tr>\n",
       "<tr>\n",
       "  <th>hour_qd</th>              <td>   -0.0657</td> <td>    0.007</td> <td>   -9.086</td> <td> 0.000</td> <td>   -0.080</td> <td>   -0.052</td>\n",
       "</tr>\n",
       "</table>\n",
       "<table class=\"simpletable\">\n",
       "<tr>\n",
       "  <th>Omnibus:</th>       <td>162.611</td> <th>  Durbin-Watson:     </th> <td>   1.934</td>\n",
       "</tr>\n",
       "<tr>\n",
       "  <th>Prob(Omnibus):</th> <td> 0.000</td>  <th>  Jarque-Bera (JB):  </th> <td> 306.347</td>\n",
       "</tr>\n",
       "<tr>\n",
       "  <th>Skew:</th>          <td> 0.778</td>  <th>  Prob(JB):          </th> <td>3.00e-67</td>\n",
       "</tr>\n",
       "<tr>\n",
       "  <th>Kurtosis:</th>      <td> 4.783</td>  <th>  Cond. No.          </th> <td>3.86e+04</td>\n",
       "</tr>\n",
       "</table><br/><br/>Notes:<br/>[1] Standard Errors assume that the covariance matrix of the errors is correctly specified.<br/>[2] The condition number is large, 3.86e+04. This might indicate that there are<br/>strong multicollinearity or other numerical problems."
      ],
      "text/plain": [
       "<class 'statsmodels.iolib.summary.Summary'>\n",
       "\"\"\"\n",
       "                            OLS Regression Results                            \n",
       "==============================================================================\n",
       "Dep. Variable:                  count   R-squared:                       0.602\n",
       "Model:                            OLS   Adj. R-squared:                  0.599\n",
       "Method:                 Least Squares   F-statistic:                     281.5\n",
       "Date:                Mon, 13 Feb 2023   Prob (F-statistic):          1.54e-255\n",
       "Time:                        20:57:17   Log-Likelihood:                -7064.8\n",
       "No. Observations:                1313   AIC:                         1.415e+04\n",
       "Df Residuals:                    1305   BIC:                         1.419e+04\n",
       "Df Model:                           7                                         \n",
       "Covariance Type:            nonrobust                                         \n",
       "========================================================================================\n",
       "                           coef    std err          t      P>|t|      [0.025      0.975]\n",
       "----------------------------------------------------------------------------------------\n",
       "const                   47.7016     11.558      4.127      0.000      25.027      70.376\n",
       "hour                   -13.5440      2.166     -6.252      0.000     -17.794      -9.294\n",
       "hour_bef_temperature     4.3060      0.374     11.512      0.000       3.572       5.040\n",
       "hour_bef_windspeed      -0.6506      1.417     -0.459      0.646      -3.431       2.129\n",
       "hour_bef_humidity       -0.5032      0.088     -5.710      0.000      -0.676      -0.330\n",
       "hour_bef_pm10           -0.2957      0.046     -6.454      0.000      -0.386      -0.206\n",
       "hour_sq                  2.2127      0.245      9.037      0.000       1.732       2.693\n",
       "hour_qd                 -0.0657      0.007     -9.086      0.000      -0.080      -0.052\n",
       "==============================================================================\n",
       "Omnibus:                      162.611   Durbin-Watson:                   1.934\n",
       "Prob(Omnibus):                  0.000   Jarque-Bera (JB):              306.347\n",
       "Skew:                           0.778   Prob(JB):                     3.00e-67\n",
       "Kurtosis:                       4.783   Cond. No.                     3.86e+04\n",
       "==============================================================================\n",
       "\n",
       "Notes:\n",
       "[1] Standard Errors assume that the covariance matrix of the errors is correctly specified.\n",
       "[2] The condition number is large, 3.86e+04. This might indicate that there are\n",
       "strong multicollinearity or other numerical problems.\n",
       "\"\"\""
      ]
     },
     "execution_count": 241,
     "metadata": {},
     "output_type": "execute_result"
    }
   ],
   "source": [
    "results = sm.OLS(y_train, sm.add_constant(X_train2)).fit()\n",
    "results.summary()"
   ]
  },
  {
   "attachments": {},
   "cell_type": "markdown",
   "metadata": {},
   "source": [
    "- Prob (F-statistic):\t1.54e-255\n",
    "    - 통계적으로 유의미한 모델로 보인다.\n",
    "- 각각의 t-test\n",
    "    - 풍속에 대한 p-value가 0.05보다 크게 나타난다. \n",
    "- R-squared:            0.602\n",
    "    - 학습 데이터의 약 60%가 회귀 모형에 의해 설명된다.\n",
    "- Durbin-Watson:        1.934\n",
    "    - 2에 가까운 값이 나타나므로 데이터에 자기상관성이 드러나지 않음."
   ]
  },
  {
   "cell_type": "code",
   "execution_count": 244,
   "metadata": {},
   "outputs": [
    {
     "data": {
      "text/plain": [
       "43.21753597429719"
      ]
     },
     "execution_count": 244,
     "metadata": {},
     "output_type": "execute_result"
    }
   ],
   "source": [
    "# RMSE\n",
    "y_pred = results.predict(sm.add_constant(X_valid2))\n",
    "RMSE = mean_squared_error(y_valid, y_pred, squared=False)\n",
    "RMSE    # new record!"
   ]
  },
  {
   "attachments": {},
   "cell_type": "markdown",
   "metadata": {},
   "source": [
    "## 시계열분석\n",
    "데이터가 동일한 시간마다 주기적으로 관측되지 않았기 때문에 시계열 데이터라고 보기 어렵다."
   ]
  },
  {
   "attachments": {},
   "cell_type": "markdown",
   "metadata": {},
   "source": [
    "## 포아송 회귀분석"
   ]
  },
  {
   "cell_type": "code",
   "execution_count": 249,
   "metadata": {},
   "outputs": [
    {
     "data": {
      "text/html": [
       "<table class=\"simpletable\">\n",
       "<caption>Generalized Linear Model Regression Results</caption>\n",
       "<tr>\n",
       "  <th>Dep. Variable:</th>         <td>count</td>      <th>  No. Observations:  </th>  <td>  1313</td> \n",
       "</tr>\n",
       "<tr>\n",
       "  <th>Model:</th>                  <td>GLM</td>       <th>  Df Residuals:      </th>  <td>  1305</td> \n",
       "</tr>\n",
       "<tr>\n",
       "  <th>Model Family:</th>         <td>Poisson</td>     <th>  Df Model:          </th>  <td>     7</td> \n",
       "</tr>\n",
       "<tr>\n",
       "  <th>Link Function:</th>          <td>Log</td>       <th>  Scale:             </th> <td>  1.0000</td>\n",
       "</tr>\n",
       "<tr>\n",
       "  <th>Method:</th>                <td>IRLS</td>       <th>  Log-Likelihood:    </th> <td> -20959.</td>\n",
       "</tr>\n",
       "<tr>\n",
       "  <th>Date:</th>            <td>Mon, 13 Feb 2023</td> <th>  Deviance:          </th> <td>  33885.</td>\n",
       "</tr>\n",
       "<tr>\n",
       "  <th>Time:</th>                <td>21:02:36</td>     <th>  Pearson chi2:      </th> <td>3.64e+04</td>\n",
       "</tr>\n",
       "<tr>\n",
       "  <th>No. Iterations:</th>          <td>5</td>        <th>  Pseudo R-squ. (CS):</th>  <td> 1.000</td> \n",
       "</tr>\n",
       "<tr>\n",
       "  <th>Covariance Type:</th>     <td>nonrobust</td>    <th>                     </th>     <td> </td>   \n",
       "</tr>\n",
       "</table>\n",
       "<table class=\"simpletable\">\n",
       "<tr>\n",
       "            <td></td>              <th>coef</th>     <th>std err</th>      <th>z</th>      <th>P>|z|</th>  <th>[0.025</th>    <th>0.975]</th>  \n",
       "</tr>\n",
       "<tr>\n",
       "  <th>const</th>                <td>    3.2785</td> <td>    0.030</td> <td>  109.578</td> <td> 0.000</td> <td>    3.220</td> <td>    3.337</td>\n",
       "</tr>\n",
       "<tr>\n",
       "  <th>hour</th>                 <td>    0.0526</td> <td>    0.000</td> <td>  107.960</td> <td> 0.000</td> <td>    0.052</td> <td>    0.054</td>\n",
       "</tr>\n",
       "<tr>\n",
       "  <th>hour_bef_temperature</th> <td>    0.0506</td> <td>    0.001</td> <td>   75.481</td> <td> 0.000</td> <td>    0.049</td> <td>    0.052</td>\n",
       "</tr>\n",
       "<tr>\n",
       "  <th>hour_bef_windspeed</th>   <td>    0.0437</td> <td>    0.002</td> <td>   18.299</td> <td> 0.000</td> <td>    0.039</td> <td>    0.048</td>\n",
       "</tr>\n",
       "<tr>\n",
       "  <th>hour_bef_humidity</th>    <td>   -0.0049</td> <td>    0.000</td> <td>  -22.724</td> <td> 0.000</td> <td>   -0.005</td> <td>   -0.004</td>\n",
       "</tr>\n",
       "<tr>\n",
       "  <th>hour_bef_visibility</th>  <td>    0.0003</td> <td> 7.65e-05</td> <td>    3.649</td> <td> 0.000</td> <td>    0.000</td> <td>    0.000</td>\n",
       "</tr>\n",
       "<tr>\n",
       "  <th>hour_bef_ozone</th>       <td>    0.0309</td> <td>    0.018</td> <td>    1.714</td> <td> 0.087</td> <td>   -0.004</td> <td>    0.066</td>\n",
       "</tr>\n",
       "<tr>\n",
       "  <th>hour_bef_pm10</th>        <td>   -0.0023</td> <td>    0.000</td> <td>  -20.644</td> <td> 0.000</td> <td>   -0.003</td> <td>   -0.002</td>\n",
       "</tr>\n",
       "</table>"
      ],
      "text/plain": [
       "<class 'statsmodels.iolib.summary.Summary'>\n",
       "\"\"\"\n",
       "                 Generalized Linear Model Regression Results                  \n",
       "==============================================================================\n",
       "Dep. Variable:                  count   No. Observations:                 1313\n",
       "Model:                            GLM   Df Residuals:                     1305\n",
       "Model Family:                 Poisson   Df Model:                            7\n",
       "Link Function:                    Log   Scale:                          1.0000\n",
       "Method:                          IRLS   Log-Likelihood:                -20959.\n",
       "Date:                Mon, 13 Feb 2023   Deviance:                       33885.\n",
       "Time:                        21:02:36   Pearson chi2:                 3.64e+04\n",
       "No. Iterations:                     5   Pseudo R-squ. (CS):              1.000\n",
       "Covariance Type:            nonrobust                                         \n",
       "========================================================================================\n",
       "                           coef    std err          z      P>|z|      [0.025      0.975]\n",
       "----------------------------------------------------------------------------------------\n",
       "const                    3.2785      0.030    109.578      0.000       3.220       3.337\n",
       "hour                     0.0526      0.000    107.960      0.000       0.052       0.054\n",
       "hour_bef_temperature     0.0506      0.001     75.481      0.000       0.049       0.052\n",
       "hour_bef_windspeed       0.0437      0.002     18.299      0.000       0.039       0.048\n",
       "hour_bef_humidity       -0.0049      0.000    -22.724      0.000      -0.005      -0.004\n",
       "hour_bef_visibility      0.0003   7.65e-05      3.649      0.000       0.000       0.000\n",
       "hour_bef_ozone           0.0309      0.018      1.714      0.087      -0.004       0.066\n",
       "hour_bef_pm10           -0.0023      0.000    -20.644      0.000      -0.003      -0.002\n",
       "========================================================================================\n",
       "\"\"\""
      ]
     },
     "metadata": {},
     "output_type": "display_data"
    },
    {
     "name": "stdout",
     "output_type": "stream",
     "text": [
      "----------------------예측된 데이터의 상위 10개의 값 확인--------------------\n",
      "\n",
      "[102.76656283 107.17580906  50.15192253 101.10436119 366.94418099\n",
      "  40.98097941  39.04208463 183.77097357  57.56543254 112.54854742]\n",
      "---------------------- 실제 데이터의 상위 10개의 값 확인 --------------------\n",
      "\n",
      "[ 49. 159.  26.  57. 431.  39.  23. 146.  39.  83.]\n"
     ]
    },
    {
     "data": {
      "text/plain": [
       "40.2907406350708"
      ]
     },
     "execution_count": 249,
     "metadata": {},
     "output_type": "execute_result"
    }
   ],
   "source": [
    "from statsmodels.genmod.generalized_linear_model import GLM\n",
    "from statsmodels.genmod.families import Poisson\n",
    "\n",
    "model = GLM(y_train, sm.add_constant(X_train), family=Poisson())\n",
    "results = model.fit()\n",
    "display(results.summary())\n",
    "\n",
    "predict = results.predict(sm.add_constant(X_train))\n",
    "print('----------------------예측된 데이터의 상위 10개의 값 확인--------------------\\n')\n",
    "print(predict.to_numpy()[:10])\n",
    "print('---------------------- 실제 데이터의 상위 10개의 값 확인 --------------------\\n')\n",
    "print(y_train.to_numpy()[:10])\n",
    "\n",
    "# RMSE\n",
    "y_pred = results.predict(sm.add_constant(X_valid))\n",
    "RMSE = mean_squared_error(y_valid, y_pred, squared=False)\n",
    "RMSE    # new record!"
   ]
  },
  {
   "attachments": {},
   "cell_type": "markdown",
   "metadata": {},
   "source": [
    "## Machine-Learning Model"
   ]
  },
  {
   "attachments": {},
   "cell_type": "markdown",
   "metadata": {},
   "source": [
    "### RandomForest"
   ]
  },
  {
   "cell_type": "code",
   "execution_count": 302,
   "metadata": {},
   "outputs": [
    {
     "name": "stdout",
     "output_type": "stream",
     "text": [
      "----------------------예측된 데이터의 상위 10개의 값 확인--------------------\n",
      "\n",
      "[ 32.71 129.19  71.7   55.45  82.35  16.2   88.6   65.37  66.38  63.36]\n",
      "---------------------- 실제 데이터의 상위 10개의 값 확인 --------------------\n",
      "\n",
      "[31. 98. 90. 47. 99. 16. 88. 82. 55. 40.]\n"
     ]
    },
    {
     "data": {
      "text/plain": [
       "33.20660254738093"
      ]
     },
     "execution_count": 302,
     "metadata": {},
     "output_type": "execute_result"
    }
   ],
   "source": [
    "from sklearn.ensemble import RandomForestRegressor\n",
    "\n",
    "model = RandomForestRegressor(n_estimators=100, random_state=213)\n",
    "model.fit(sm.add_constant(X_train), y_train)\n",
    "\n",
    "# 학습된 모델을 이용해 결괏값 예측 후 상위 10개의 값 확인\n",
    "predict = model.predict(sm.add_constant(X_valid))\n",
    "print('----------------------예측된 데이터의 상위 10개의 값 확인--------------------\\n')\n",
    "print(predict[:10])\n",
    "print('---------------------- 실제 데이터의 상위 10개의 값 확인 --------------------\\n')\n",
    "print(y_valid.to_numpy()[:10])\n",
    "\n",
    "# RMSE\n",
    "y_pred = model.predict(sm.add_constant(X_valid))\n",
    "RMSE = mean_squared_error(y_valid, y_pred, squared=False)\n",
    "RMSE    # new record!"
   ]
  },
  {
   "cell_type": "code",
   "execution_count": 276,
   "metadata": {},
   "outputs": [],
   "source": [
    "X_test = test.drop(['id', 'hour_bef_precipitation', 'hour_bef_pm2.5'], axis=1)\n",
    "X_test = X_test.fillna(method=\"ffill\")\n",
    "submission['count'] = model.predict(sm.add_constant(X_test))\n",
    "submission.to_csv(\"result1.csv\", index=False)"
   ]
  },
  {
   "attachments": {},
   "cell_type": "markdown",
   "metadata": {},
   "source": [
    "### XGBoost"
   ]
  },
  {
   "cell_type": "code",
   "execution_count": 303,
   "metadata": {},
   "outputs": [
    {
     "name": "stdout",
     "output_type": "stream",
     "text": [
      "[0]\tvalidation_0-rmse:95.52713\n",
      "[1]\tvalidation_0-rmse:70.89509\n",
      "[2]\tvalidation_0-rmse:57.70493\n",
      "[3]\tvalidation_0-rmse:48.69091\n",
      "[4]\tvalidation_0-rmse:43.87430\n",
      "[5]\tvalidation_0-rmse:40.80807\n",
      "[6]\tvalidation_0-rmse:39.19287\n",
      "[7]\tvalidation_0-rmse:38.94128\n",
      "[8]\tvalidation_0-rmse:38.20774\n",
      "[9]\tvalidation_0-rmse:38.06294\n",
      "[10]\tvalidation_0-rmse:38.12572\n",
      "[11]\tvalidation_0-rmse:38.51284\n",
      "[12]\tvalidation_0-rmse:38.71447\n",
      "[13]\tvalidation_0-rmse:38.80055\n",
      "[14]\tvalidation_0-rmse:39.06053\n",
      "[15]\tvalidation_0-rmse:38.58485\n",
      "[16]\tvalidation_0-rmse:38.53317\n",
      "[17]\tvalidation_0-rmse:38.50725\n",
      "[18]\tvalidation_0-rmse:38.67092\n",
      "----------------------예측된 데이터의 상위 10개의 값 확인--------------------\n",
      "\n",
      "[ 24.818466 123.305214  45.45403   44.383022  72.010864  15.936726\n",
      "  98.44718   43.233948  66.93943   48.493286]\n",
      "---------------------- 실제 데이터의 상위 10개의 값 확인 --------------------\n",
      "\n",
      "[31. 98. 90. 47. 99. 16. 88. 82. 55. 40.]\n"
     ]
    },
    {
     "name": "stderr",
     "output_type": "stream",
     "text": [
      "c:\\Users\\alllh\\anaconda3\\envs\\dev\\lib\\site-packages\\xgboost\\sklearn.py:835: UserWarning: `eval_metric` in `fit` method is deprecated for better compatibility with scikit-learn, use `eval_metric` in constructor or`set_params` instead.\n",
      "  warnings.warn(\n",
      "c:\\Users\\alllh\\anaconda3\\envs\\dev\\lib\\site-packages\\xgboost\\sklearn.py:835: UserWarning: `early_stopping_rounds` in `fit` method is deprecated for better compatibility with scikit-learn, use `early_stopping_rounds` in constructor or`set_params` instead.\n",
      "  warnings.warn(\n"
     ]
    },
    {
     "data": {
      "text/plain": [
       "38.0629405238962"
      ]
     },
     "execution_count": 303,
     "metadata": {},
     "output_type": "execute_result"
    }
   ],
   "source": [
    "import xgboost as xgb\n",
    "\n",
    "model = xgb.XGBRegressor(objective='reg:squarederror', n_estimators = 213)\n",
    "model.fit(X_train,y_train, eval_set=[(X_valid,y_valid)],\n",
    "          eval_metric = 'rmse',\n",
    "          early_stopping_rounds=10,\n",
    "          verbose= True\n",
    "          )\n",
    "\n",
    "# 학습된 모델을 이용해 결괏값 예측 후 상위 10개의 값 확인\n",
    "predict = model.predict(X_valid)\n",
    "print('----------------------예측된 데이터의 상위 10개의 값 확인--------------------\\n')\n",
    "print(predict[:10])\n",
    "print('---------------------- 실제 데이터의 상위 10개의 값 확인 --------------------\\n')\n",
    "print(y_valid.to_numpy()[:10])\n",
    "\n",
    "# RMSE\n",
    "y_pred = model.predict(X_valid)\n",
    "RMSE = mean_squared_error(y_valid, y_pred, squared=False)\n",
    "RMSE"
   ]
  },
  {
   "attachments": {},
   "cell_type": "markdown",
   "metadata": {},
   "source": [
    "## Deep-learning Model"
   ]
  },
  {
   "cell_type": "code",
   "execution_count": 666,
   "metadata": {},
   "outputs": [],
   "source": [
    "import torch\n",
    "from torch import nn\n",
    "import torch.nn.functional as f\n",
    "from torch.utils.data import DataLoader     # 데이터로더는 데이터셋을 iterable하게 감싸는 역할\n",
    "from torchvision import datasets            # 데이터셋은 샘플과 정답을 저장함\n",
    "from torchvision.transforms import ToTensor # 데이터셋을 텐서로 바꾸는듯?\n",
    "import numpy as np\n",
    "import pandas as pd\n"
   ]
  },
  {
   "cell_type": "code",
   "execution_count": 751,
   "metadata": {},
   "outputs": [],
   "source": [
    "train_raw = pd.read_csv(\"data/train.csv\")\n",
    "test_raw = pd.read_csv(\"data/test.csv\")\n",
    "submission_raw = pd.read_csv(\"data/submission.csv\")"
   ]
  },
  {
   "cell_type": "code",
   "execution_count": 1108,
   "metadata": {},
   "outputs": [],
   "source": [
    "train = train_raw.copy()\n",
    "test = test_raw.copy()\n",
    "submission = submission_raw.copy()\n",
    "train = train.fillna(method=\"ffill\")\n",
    "test = test.fillna(method=\"ffill\")\n",
    "train['hour_bef_visibility'] = train['hour_bef_visibility']/10\n",
    "train['hour_bef_ozone'] = train['hour_bef_ozone']*10"
   ]
  },
  {
   "cell_type": "code",
   "execution_count": 1109,
   "metadata": {},
   "outputs": [
    {
     "name": "stdout",
     "output_type": "stream",
     "text": [
      "torch.Size([1313, 7]) torch.Size([1313, 1])\n"
     ]
    }
   ],
   "source": [
    "X = train.drop(['id', 'count', 'hour_bef_precipitation', 'hour_bef_pm2.5'], axis=1)\n",
    "y = train['count']\n",
    "\n",
    "normalized_X = (X-X.mean())/(X.std())\n",
    "\n",
    "# train -> train/validation\n",
    "X_train, X_valid, y_train, y_valid = train_test_split(normalized_X, y, test_size=0.1, shuffle=False)\n",
    "\n",
    "X_tensor = torch.tensor(X_train.values).type(torch.float)\n",
    "y_tensor = torch.tensor(y_train.values).type(torch.float).view(-1, 1)\n",
    "print(X_tensor.shape, y_tensor.shape)"
   ]
  },
  {
   "cell_type": "code",
   "execution_count": 1110,
   "metadata": {},
   "outputs": [
    {
     "name": "stdout",
     "output_type": "stream",
     "text": [
      "Using cuda device\n",
      "NeuralNetwork(\n",
      "  (linear_relu_stack): Sequential(\n",
      "    (0): Linear(in_features=7, out_features=4, bias=True)\n",
      "    (1): ReLU()\n",
      "    (2): Linear(in_features=4, out_features=1, bias=True)\n",
      "  )\n",
      ")\n"
     ]
    }
   ],
   "source": [
    "# Get cpu or gpu device for training.\n",
    "device = \"cuda\" if torch.cuda.is_available() else \"mps\" if torch.backends.mps.is_available() else \"cpu\"\n",
    "print(f\"Using {device} device\")\n",
    "\n",
    "# Define model\n",
    "class NeuralNetwork(nn.Module): # nn.Module을 상속, \n",
    "    def __init__(self):         # 모델에서 사용할 레이어를 정의하는 부분\n",
    "        super().__init__()      # 부모 클래스의 초기화 부분을 호출\n",
    "        self.linear_relu_stack = nn.Sequential(\n",
    "            nn.Linear(7, 4),\n",
    "            nn.ReLU(),\n",
    "            nn.Linear(4, 1),\n",
    "            # nn.Linear(7, 8),\n",
    "            # nn.ReLU(),\n",
    "            # nn.Linear(8, 1),\n",
    "            # nn.Linear(4, 1),\n",
    "        )\n",
    "\n",
    "    def forward(self, x):   # 데이터가 들어오면 forward함수를 실행하고 결과를 반환\n",
    "        result = self.linear_relu_stack(x.type(torch.float))\n",
    "        return result\n",
    "\n",
    "model = NeuralNetwork().to(device)  # model을 initialize하는 부분\n",
    "print(model)"
   ]
  },
  {
   "cell_type": "code",
   "execution_count": 1111,
   "metadata": {},
   "outputs": [],
   "source": [
    "loss_fn = nn.L1Loss()\n",
    "optimizer = torch.optim.SGD(model.parameters(), lr=4e-3)    # Stochastic Gradient Descent 을 최적화 함수로 사용"
   ]
  },
  {
   "cell_type": "code",
   "execution_count": 1112,
   "metadata": {},
   "outputs": [],
   "source": [
    "def train(X_tensor, y_tensor, model, loss_fn, optimizer):   # train, 모델의 파라미터를 갱신하는 알고리즘을 설계\n",
    "    size = len(X_tensor)\n",
    "    model.train()                           # 모델을 학습 모드로 전환, 평가 모드(eval())가 존재\n",
    "    for i in range(size):\n",
    "        X, y = X_tensor[i].to(device), y_tensor[i].to(device)   # Tensor data에 사용하고자 하는 device를 지정\n",
    "\n",
    "        # Compute prediction error\n",
    "        pred = model(X)\n",
    "        # if pred == np.nan: break\n",
    "        loss = loss_fn(pred, y) # loss 함수 또한 initiate가 필요\n",
    "\n",
    "        # Backpropagation\n",
    "        optimizer.zero_grad()   # 반복마다 기울기를 새로 계산하므로 0으로 초기화가 필요\n",
    "        loss.backward()         # 최종 손실값에 backpropagation 방법을 활용하여 각 파라미터에 대한 기울기값을 계산\n",
    "        optimizer.step()        # 계산한 기울기를 바탕을 가중치, 파라미터를 갱신 \n",
    "        #*** loss함수의 결과를 model의 파라미터를 갖고있는 optimizer에서 활용\n",
    "        #*** loss함수는 model과 관련 없어 보이나 backpropagation을 하는 것으로 보아 \n",
    "        #       model의 각 레이어의 결과 데이터를 알고 있는 듯\n",
    "\n",
    "        if i % 100 == 0:    # 100번째마다 결과를 출력\n",
    "            loss, current = loss.item(), i\n",
    "            print(f\"loss: {loss:>7f}  [{current:>5d}/{size:>5d}]\")"
   ]
  },
  {
   "cell_type": "code",
   "execution_count": 1113,
   "metadata": {},
   "outputs": [],
   "source": [
    "def test(X_tensor, y_tensor, model, loss_fn):\n",
    "    size = len(X_tensor)\n",
    "    model.eval()                    # 모델을 평가 모드로 전환\n",
    "    test_loss = 0       # 배치별 결과에서 나타난 손실의 평균을 구하는 test_loss, 정답률을 구하는 correct\n",
    "    with torch.no_grad():           # 학습을 시키지 않게끔 기울기를 구하지 않는다는 것을 명시\n",
    "        for i in range(size):     \n",
    "            X, y = X_tensor[i].to(device), y_tensor[i].to(device)\n",
    "            pred = model(X)\n",
    "            test_loss += loss_fn(pred, y).item()\n",
    "    print(f\"Test Error: \\n Avg loss: {test_loss/size:>8f} \\n\")"
   ]
  },
  {
   "cell_type": "code",
   "execution_count": 1114,
   "metadata": {},
   "outputs": [
    {
     "name": "stdout",
     "output_type": "stream",
     "text": [
      "Epoch 1\n",
      "-------------------------------\n",
      "loss: 48.547043  [    0/ 1313]\n",
      "loss: 101.118584  [  100/ 1313]\n",
      "loss: 107.789963  [  200/ 1313]\n",
      "loss: 106.439011  [  300/ 1313]\n",
      "loss: 202.847153  [  400/ 1313]\n",
      "loss: 208.999725  [  500/ 1313]\n",
      "loss: 31.419762  [  600/ 1313]\n",
      "loss: 92.737144  [  700/ 1313]\n",
      "loss: 5.583529  [  800/ 1313]\n",
      "loss: 62.745689  [  900/ 1313]\n",
      "loss: 1.954606  [ 1000/ 1313]\n",
      "loss: 56.286373  [ 1100/ 1313]\n",
      "loss: 13.784386  [ 1200/ 1313]\n",
      "loss: 41.732086  [ 1300/ 1313]\n",
      "Test Error: \n",
      " Avg loss: 39.796412 \n",
      "\n",
      "Epoch 2\n",
      "-------------------------------\n",
      "loss: 35.573410  [    0/ 1313]\n",
      "loss: 58.228104  [  100/ 1313]\n",
      "loss: 48.143677  [  200/ 1313]\n",
      "loss: 15.154999  [  300/ 1313]\n",
      "loss: 75.096985  [  400/ 1313]\n",
      "loss: 134.401184  [  500/ 1313]\n",
      "loss: 12.164089  [  600/ 1313]\n",
      "loss: 72.321991  [  700/ 1313]\n",
      "loss: 3.097435  [  800/ 1313]\n",
      "loss: 43.634262  [  900/ 1313]\n",
      "loss: 1.885697  [ 1000/ 1313]\n",
      "loss: 43.800102  [ 1100/ 1313]\n",
      "loss: 20.717476  [ 1200/ 1313]\n",
      "loss: 12.657875  [ 1300/ 1313]\n",
      "Test Error: \n",
      " Avg loss: 38.582874 \n",
      "\n",
      "Epoch 3\n",
      "-------------------------------\n",
      "loss: 74.492119  [    0/ 1313]\n",
      "loss: 35.663879  [  100/ 1313]\n",
      "loss: 47.272781  [  200/ 1313]\n",
      "loss: 11.638084  [  300/ 1313]\n",
      "loss: 75.612686  [  400/ 1313]\n",
      "loss: 137.634216  [  500/ 1313]\n",
      "loss: 12.672241  [  600/ 1313]\n",
      "loss: 67.954315  [  700/ 1313]\n",
      "loss: 7.775793  [  800/ 1313]\n",
      "loss: 42.353455  [  900/ 1313]\n",
      "loss: 2.968601  [ 1000/ 1313]\n",
      "loss: 35.341270  [ 1100/ 1313]\n",
      "loss: 23.550697  [ 1200/ 1313]\n",
      "loss: 6.543797  [ 1300/ 1313]\n",
      "Test Error: \n",
      " Avg loss: 38.401909 \n",
      "\n",
      "Epoch 4\n",
      "-------------------------------\n",
      "loss: 78.692169  [    0/ 1313]\n",
      "loss: 31.144226  [  100/ 1313]\n",
      "loss: 50.022461  [  200/ 1313]\n",
      "loss: 7.043320  [  300/ 1313]\n",
      "loss: 71.140457  [  400/ 1313]\n",
      "loss: 144.069580  [  500/ 1313]\n",
      "loss: 12.167149  [  600/ 1313]\n",
      "loss: 59.744614  [  700/ 1313]\n",
      "loss: 8.322323  [  800/ 1313]\n",
      "loss: 42.777023  [  900/ 1313]\n",
      "loss: 5.994064  [ 1000/ 1313]\n",
      "loss: 32.132248  [ 1100/ 1313]\n",
      "loss: 25.546982  [ 1200/ 1313]\n",
      "loss: 3.179504  [ 1300/ 1313]\n",
      "Test Error: \n",
      " Avg loss: 37.676008 \n",
      "\n",
      "Epoch 5\n",
      "-------------------------------\n",
      "loss: 72.914810  [    0/ 1313]\n",
      "loss: 30.336700  [  100/ 1313]\n",
      "loss: 53.468689  [  200/ 1313]\n",
      "loss: 4.609001  [  300/ 1313]\n",
      "loss: 72.481262  [  400/ 1313]\n",
      "loss: 138.716354  [  500/ 1313]\n",
      "loss: 12.615021  [  600/ 1313]\n",
      "loss: 62.996216  [  700/ 1313]\n",
      "loss: 7.343693  [  800/ 1313]\n",
      "loss: 42.058151  [  900/ 1313]\n",
      "loss: 7.631374  [ 1000/ 1313]\n",
      "loss: 31.413727  [ 1100/ 1313]\n",
      "loss: 30.558640  [ 1200/ 1313]\n",
      "loss: 2.100883  [ 1300/ 1313]\n",
      "Test Error: \n",
      " Avg loss: 37.290555 \n",
      "\n",
      "Epoch 6\n",
      "-------------------------------\n",
      "loss: 69.598381  [    0/ 1313]\n",
      "loss: 24.616051  [  100/ 1313]\n",
      "loss: 50.025162  [  200/ 1313]\n",
      "loss: 1.795082  [  300/ 1313]\n",
      "loss: 72.913788  [  400/ 1313]\n",
      "loss: 144.828247  [  500/ 1313]\n",
      "loss: 7.135223  [  600/ 1313]\n",
      "loss: 59.253677  [  700/ 1313]\n",
      "loss: 7.592308  [  800/ 1313]\n",
      "loss: 40.607643  [  900/ 1313]\n",
      "loss: 7.836266  [ 1000/ 1313]\n",
      "loss: 30.236969  [ 1100/ 1313]\n",
      "loss: 33.478676  [ 1200/ 1313]\n",
      "loss: 3.521664  [ 1300/ 1313]\n",
      "Test Error: \n",
      " Avg loss: 36.846709 \n",
      "\n",
      "Epoch 7\n",
      "-------------------------------\n",
      "loss: 68.555878  [    0/ 1313]\n",
      "loss: 21.593422  [  100/ 1313]\n",
      "loss: 55.912582  [  200/ 1313]\n",
      "loss: 0.304924  [  300/ 1313]\n",
      "loss: 73.760559  [  400/ 1313]\n",
      "loss: 143.663940  [  500/ 1313]\n",
      "loss: 8.165241  [  600/ 1313]\n",
      "loss: 58.257584  [  700/ 1313]\n",
      "loss: 7.633726  [  800/ 1313]\n",
      "loss: 41.012527  [  900/ 1313]\n",
      "loss: 7.391739  [ 1000/ 1313]\n",
      "loss: 31.433083  [ 1100/ 1313]\n",
      "loss: 34.633919  [ 1200/ 1313]\n",
      "loss: 5.835590  [ 1300/ 1313]\n",
      "Test Error: \n",
      " Avg loss: 36.507300 \n",
      "\n",
      "Epoch 8\n",
      "-------------------------------\n",
      "loss: 67.942375  [    0/ 1313]\n",
      "loss: 22.441803  [  100/ 1313]\n",
      "loss: 57.791412  [  200/ 1313]\n",
      "loss: 0.191429  [  300/ 1313]\n",
      "loss: 73.987244  [  400/ 1313]\n",
      "loss: 147.825317  [  500/ 1313]\n",
      "loss: 4.152081  [  600/ 1313]\n",
      "loss: 50.626938  [  700/ 1313]\n",
      "loss: 5.363499  [  800/ 1313]\n",
      "loss: 40.483238  [  900/ 1313]\n",
      "loss: 5.307217  [ 1000/ 1313]\n",
      "loss: 32.828751  [ 1100/ 1313]\n",
      "loss: 33.199852  [ 1200/ 1313]\n",
      "loss: 8.178211  [ 1300/ 1313]\n",
      "Test Error: \n",
      " Avg loss: 36.138636 \n",
      "\n",
      "Epoch 9\n",
      "-------------------------------\n",
      "loss: 65.218140  [    0/ 1313]\n",
      "loss: 21.031662  [  100/ 1313]\n",
      "loss: 59.287262  [  200/ 1313]\n",
      "loss: 1.806831  [  300/ 1313]\n",
      "loss: 71.381989  [  400/ 1313]\n",
      "loss: 141.517838  [  500/ 1313]\n",
      "loss: 6.293156  [  600/ 1313]\n",
      "loss: 51.706863  [  700/ 1313]\n",
      "loss: 3.486169  [  800/ 1313]\n",
      "loss: 41.794128  [  900/ 1313]\n",
      "loss: 6.131489  [ 1000/ 1313]\n",
      "loss: 33.858250  [ 1100/ 1313]\n",
      "loss: 37.506783  [ 1200/ 1313]\n",
      "loss: 12.888618  [ 1300/ 1313]\n",
      "Test Error: \n",
      " Avg loss: 35.953288 \n",
      "\n",
      "Epoch 10\n",
      "-------------------------------\n",
      "loss: 69.528244  [    0/ 1313]\n",
      "loss: 14.234100  [  100/ 1313]\n",
      "loss: 59.110336  [  200/ 1313]\n",
      "loss: 4.240807  [  300/ 1313]\n",
      "loss: 69.556213  [  400/ 1313]\n",
      "loss: 144.830246  [  500/ 1313]\n",
      "loss: 6.384827  [  600/ 1313]\n",
      "loss: 47.191025  [  700/ 1313]\n",
      "loss: 2.408640  [  800/ 1313]\n",
      "loss: 35.347015  [  900/ 1313]\n",
      "loss: 4.559551  [ 1000/ 1313]\n",
      "loss: 32.529259  [ 1100/ 1313]\n",
      "loss: 34.077545  [ 1200/ 1313]\n",
      "loss: 11.546410  [ 1300/ 1313]\n",
      "Test Error: \n",
      " Avg loss: 35.897144 \n",
      "\n",
      "Epoch 11\n",
      "-------------------------------\n",
      "loss: 63.028458  [    0/ 1313]\n",
      "loss: 12.810814  [  100/ 1313]\n",
      "loss: 62.938599  [  200/ 1313]\n",
      "loss: 3.314957  [  300/ 1313]\n",
      "loss: 71.907928  [  400/ 1313]\n",
      "loss: 140.823151  [  500/ 1313]\n",
      "loss: 7.146255  [  600/ 1313]\n",
      "loss: 46.178268  [  700/ 1313]\n",
      "loss: 2.271708  [  800/ 1313]\n",
      "loss: 31.298019  [  900/ 1313]\n",
      "loss: 6.475681  [ 1000/ 1313]\n",
      "loss: 31.859447  [ 1100/ 1313]\n",
      "loss: 33.236473  [ 1200/ 1313]\n",
      "loss: 12.200996  [ 1300/ 1313]\n",
      "Test Error: \n",
      " Avg loss: 35.600753 \n",
      "\n",
      "Epoch 12\n",
      "-------------------------------\n",
      "loss: 62.766174  [    0/ 1313]\n",
      "loss: 10.112091  [  100/ 1313]\n",
      "loss: 60.015778  [  200/ 1313]\n",
      "loss: 3.796089  [  300/ 1313]\n",
      "loss: 68.338974  [  400/ 1313]\n",
      "loss: 142.803452  [  500/ 1313]\n",
      "loss: 3.089600  [  600/ 1313]\n",
      "loss: 42.742996  [  700/ 1313]\n",
      "loss: 0.777693  [  800/ 1313]\n",
      "loss: 33.550285  [  900/ 1313]\n",
      "loss: 9.164103  [ 1000/ 1313]\n",
      "loss: 28.493965  [ 1100/ 1313]\n",
      "loss: 37.854897  [ 1200/ 1313]\n",
      "loss: 10.788418  [ 1300/ 1313]\n",
      "Test Error: \n",
      " Avg loss: 35.373411 \n",
      "\n",
      "Done!\n"
     ]
    }
   ],
   "source": [
    "epochs = 12\n",
    "for t in range(epochs):\n",
    "    print(f\"Epoch {t+1}\\n-------------------------------\")\n",
    "    train(X_tensor, y_tensor, model, loss_fn, optimizer)\n",
    "    test(X_tensor, y_tensor, model, loss_fn)\n",
    "print(\"Done!\")"
   ]
  },
  {
   "cell_type": "code",
   "execution_count": 1115,
   "metadata": {},
   "outputs": [
    {
     "name": "stdout",
     "output_type": "stream",
     "text": [
      "----------------------예측된 데이터의 상위 10개의 값 확인--------------------\n",
      "\n",
      "tensor([[ 42.5036],\n",
      "        [106.3341],\n",
      "        [ 68.9256],\n",
      "        [ 29.1136],\n",
      "        [ 87.4126],\n",
      "        [ 29.5714],\n",
      "        [ 87.7720],\n",
      "        [ 19.7088],\n",
      "        [ 68.0045],\n",
      "        [ 31.4007]], device='cuda:0', grad_fn=<SliceBackward0>)\n",
      "---------------------- 실제 데이터의 상위 10개의 값 확인 --------------------\n",
      "\n",
      "[31. 98. 90. 47. 99. 16. 88. 82. 55. 40.]\n"
     ]
    },
    {
     "data": {
      "text/plain": [
       "39.67566959573948"
      ]
     },
     "execution_count": 1115,
     "metadata": {},
     "output_type": "execute_result"
    }
   ],
   "source": [
    "X_tensor = torch.tensor(X_valid.values).type(torch.float).to(device)\n",
    "\n",
    "# 학습된 모델을 이용해 결괏값 예측 후 상위 10개의 값 확인\n",
    "predict = model(X_tensor)\n",
    "print('----------------------예측된 데이터의 상위 10개의 값 확인--------------------\\n')\n",
    "print(predict[:10])\n",
    "print('---------------------- 실제 데이터의 상위 10개의 값 확인 --------------------\\n')\n",
    "print(y_valid.to_numpy()[:10])\n",
    "\n",
    "# RMSE\n",
    "y_pred = model(X_tensor).cpu().detach().numpy() \n",
    "RMSE = mean_squared_error(y_valid, y_pred, squared=False)\n",
    "RMSE"
   ]
  },
  {
   "cell_type": "code",
   "execution_count": 1118,
   "metadata": {},
   "outputs": [],
   "source": [
    "X_test = test_raw.drop(['id', 'hour_bef_precipitation', 'hour_bef_pm2.5'], axis=1)\n",
    "X_test = X_test.fillna(method=\"ffill\")\n",
    "X_test = (X_test-X_test.mean())/(X_test.std())\n",
    "X_tensor = torch.tensor(X_test.values).type(torch.float).to(device)\n",
    "submission['count'] = model(X_tensor).cpu().detach().numpy()\n",
    "submission['count']\n",
    "submission.to_csv(\"result2.csv\", index=False)"
   ]
  },
  {
   "cell_type": "code",
   "execution_count": 1117,
   "metadata": {},
   "outputs": [
    {
     "data": {
      "text/html": [
       "<div>\n",
       "<style scoped>\n",
       "    .dataframe tbody tr th:only-of-type {\n",
       "        vertical-align: middle;\n",
       "    }\n",
       "\n",
       "    .dataframe tbody tr th {\n",
       "        vertical-align: top;\n",
       "    }\n",
       "\n",
       "    .dataframe thead th {\n",
       "        text-align: right;\n",
       "    }\n",
       "</style>\n",
       "<table border=\"1\" class=\"dataframe\">\n",
       "  <thead>\n",
       "    <tr style=\"text-align: right;\">\n",
       "      <th></th>\n",
       "      <th>id</th>\n",
       "      <th>count</th>\n",
       "    </tr>\n",
       "  </thead>\n",
       "  <tbody>\n",
       "    <tr>\n",
       "      <th>count</th>\n",
       "      <td>715.000000</td>\n",
       "      <td>715.000000</td>\n",
       "    </tr>\n",
       "    <tr>\n",
       "      <th>mean</th>\n",
       "      <td>1056.854545</td>\n",
       "      <td>100.907410</td>\n",
       "    </tr>\n",
       "    <tr>\n",
       "      <th>std</th>\n",
       "      <td>625.574471</td>\n",
       "      <td>69.708748</td>\n",
       "    </tr>\n",
       "    <tr>\n",
       "      <th>min</th>\n",
       "      <td>0.000000</td>\n",
       "      <td>1.206093</td>\n",
       "    </tr>\n",
       "    <tr>\n",
       "      <th>25%</th>\n",
       "      <td>507.000000</td>\n",
       "      <td>33.641579</td>\n",
       "    </tr>\n",
       "    <tr>\n",
       "      <th>50%</th>\n",
       "      <td>1046.000000</td>\n",
       "      <td>87.009171</td>\n",
       "    </tr>\n",
       "    <tr>\n",
       "      <th>75%</th>\n",
       "      <td>1616.500000</td>\n",
       "      <td>162.211983</td>\n",
       "    </tr>\n",
       "    <tr>\n",
       "      <th>max</th>\n",
       "      <td>2177.000000</td>\n",
       "      <td>286.155457</td>\n",
       "    </tr>\n",
       "  </tbody>\n",
       "</table>\n",
       "</div>"
      ],
      "text/plain": [
       "                id       count\n",
       "count   715.000000  715.000000\n",
       "mean   1056.854545  100.907410\n",
       "std     625.574471   69.708748\n",
       "min       0.000000    1.206093\n",
       "25%     507.000000   33.641579\n",
       "50%    1046.000000   87.009171\n",
       "75%    1616.500000  162.211983\n",
       "max    2177.000000  286.155457"
      ]
     },
     "execution_count": 1117,
     "metadata": {},
     "output_type": "execute_result"
    }
   ],
   "source": [
    "submission.describe()"
   ]
  }
 ],
 "metadata": {
  "kernelspec": {
   "display_name": "dev",
   "language": "python",
   "name": "python3"
  },
  "language_info": {
   "codemirror_mode": {
    "name": "ipython",
    "version": 3
   },
   "file_extension": ".py",
   "mimetype": "text/x-python",
   "name": "python",
   "nbconvert_exporter": "python",
   "pygments_lexer": "ipython3",
   "version": "3.9.15"
  },
  "orig_nbformat": 4,
  "vscode": {
   "interpreter": {
    "hash": "3e13486f50ad8491adee3900c65648710623e910042c80717865a7ec3732c806"
   }
  }
 },
 "nbformat": 4,
 "nbformat_minor": 2
}
